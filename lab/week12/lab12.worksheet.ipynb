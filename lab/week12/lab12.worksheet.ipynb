{
 "cells": [
  {
   "cell_type": "code",
   "execution_count": null,
   "id": "d3625465",
   "metadata": {
    "deletable": false,
    "editable": false
   },
   "outputs": [],
   "source": [
    "# Initialize Otter\n",
    "import otter\n",
    "grader = otter.Notebook(\"lab12.worksheet.ipynb\")"
   ]
  },
  {
   "cell_type": "markdown",
   "id": "751ce55a",
   "metadata": {},
   "source": [
    "# Lab 12 - Worksheet \n",
    "\n",
    "Complete and turn in by Nov 17, 7pm."
   ]
  },
  {
   "cell_type": "code",
   "execution_count": null,
   "id": "d3813508",
   "metadata": {
    "tags": []
   },
   "outputs": [],
   "source": [
    "# Run this cell to load all required Python libraries \n",
    "import numpy as np\n",
    "from datascience import *\n",
    "\n",
    "import matplotlib.pyplot as plt\n",
    "plt.style.use(\"fivethirtyeight\")\n",
    "%matplotlib inline\n",
    "\n",
    "import warnings\n",
    "warnings.simplefilter('ignore')"
   ]
  },
  {
   "cell_type": "markdown",
   "id": "f10bd85b",
   "metadata": {},
   "source": [
    "# Question 1 \n",
    "\n",
    "## Data\n",
    "\n",
    "We load datasets in from other sources using the `Table.read_table()` method. We can pass in a *file path* to this method and it will load that data into a table we can use in Python!\n",
    "\n",
    "The dataset that we'll use in this lab comes from the Behavioral Risk Factor Surveillance System (BRFSS), a health survey fielded by the Centers for Disease Control and Prevention (CDC). From the [BRFSS website](https://www.cdc.gov/brfss/index.html):\n",
    ">The Behavioral Risk Factor Surveillance System (BRFSS) is the nation’s premier system of health-related telephone surveys that collect state data about U.S. residents regarding their health-related risk behaviors, chronic health conditions, and use of preventive services.\n",
    "\n",
    ">By collecting behavioral health risk data at the state and local level, BRFSS has become a powerful tool for targeting and building health promotion activities. \n",
    "\n",
    "The dataset that you will investigate is a **subset of the 2022 BRFSS Survey**. We've taken all the data points corresponding to fully-completed surveys and, in our opinion, the most interesting columns. Since the entire data set is so large, we've randomly sampled 100,000 rows from the original data. While we've wrangled and cleaning the data set you'll use in your investigation, you're welcome to investigate the original source; you can do so via the [Survey Data section](https://www.cdc.gov/brfss/data_documentation/index.htm) of the BRFSS site."
   ]
  },
  {
   "cell_type": "code",
   "execution_count": null,
   "id": "9c144936",
   "metadata": {
    "tags": []
   },
   "outputs": [],
   "source": [
    "# Run this cell to load in the data\n",
    "brfss = Table.read_table(\"data/brfss.csv\")\n",
    "brfss.show(5)"
   ]
  },
  {
   "cell_type": "markdown",
   "id": "e1548a49",
   "metadata": {},
   "source": [
    "## Q1A \n",
    "\n",
    "Fill in the `num_rows_brfss` and `num_columns_brfss` with the number of rows and columns in the original `brfss` table, respectively."
   ]
  },
  {
   "cell_type": "code",
   "execution_count": null,
   "id": "d738469c",
   "metadata": {
    "tags": []
   },
   "outputs": [],
   "source": [
    "num_rows_brfss = ...\n",
    "num_columns_brfss = ...\n",
    "print(f\"Our `brfss` table has {num_rows_brfss} rows and {num_columns_brfss} columns\")"
   ]
  },
  {
   "cell_type": "code",
   "execution_count": null,
   "id": "92a7fc6a",
   "metadata": {
    "deletable": false,
    "editable": false
   },
   "outputs": [],
   "source": [
    "grader.check(\"q1a\")"
   ]
  },
  {
   "cell_type": "markdown",
   "id": "bcff54e9",
   "metadata": {},
   "source": [
    "### Investigating our Data\n",
    "\n",
    "Now that we've loaded our data into the `brfss` table, let's take a closer look at its columns. Run the following cell to output the column names. "
   ]
  },
  {
   "cell_type": "code",
   "execution_count": null,
   "id": "7c798309",
   "metadata": {
    "tags": []
   },
   "outputs": [],
   "source": [
    "brfss.labels"
   ]
  },
  {
   "cell_type": "markdown",
   "id": "6858e5ec",
   "metadata": {},
   "source": [
    "Based on these column names, it looks like the data includes questions about **telecommunications**, **housing**, **demographic information**, **mental and physical health**, **alcohol and drug consumption**, and **physical exercise**. Each column in the `brfss` table corresponds to a question asked in the official BRFSS Survey."
   ]
  },
  {
   "cell_type": "markdown",
   "id": "7fc25f05",
   "metadata": {
    "tags": []
   },
   "source": [
    "## Q1B\n",
    "\n",
    "Assign `num_alabama_rows` to the the number of times the name **Alabama** appeared in the `brfss` table.\n"
   ]
  },
  {
   "cell_type": "code",
   "execution_count": null,
   "id": "c7c7b7cf",
   "metadata": {
    "tags": []
   },
   "outputs": [],
   "source": [
    "alabama_tbl = ...\n",
    "num_alabama_rows = ...\n",
    "num_alabama_rows"
   ]
  },
  {
   "cell_type": "code",
   "execution_count": null,
   "id": "79d13476",
   "metadata": {
    "deletable": false,
    "editable": false
   },
   "outputs": [],
   "source": [
    "grader.check(\"q1b\")"
   ]
  },
  {
   "cell_type": "markdown",
   "id": "a54fc1aa",
   "metadata": {},
   "source": [
    "Take a closer look at some of the columns in the `brfss` table. For the next two questions, we will be looking at the `\"Binge Drinks\"` column, which corresponds to this survey question:\n",
    "> Considering all types of alcoholic beverages, how many times during the past 30 days did you have 5 or more\n",
    "drinks for men or 4 or more drinks for women on an occasion? \n",
    "\n",
    "Notice that this column contains negative values, most notably `-1`. Why might this be the case? Discuss with the people around you and check in with your GSI to confirm."
   ]
  },
  {
   "cell_type": "code",
   "execution_count": null,
   "id": "549e4802",
   "metadata": {
    "tags": []
   },
   "outputs": [],
   "source": [
    "# Run this cell\n",
    "brfss.column(\"Binge Drinks\")"
   ]
  },
  {
   "cell_type": "markdown",
   "id": "7adbaeba",
   "metadata": {},
   "source": [
    "## Q1C \n",
    "\n",
    "Create a new table called `missing_binge_drinks` which only contains rows from the `brfss` table where there is a `-1` in the `\"Binge Drinks\"` column."
   ]
  },
  {
   "cell_type": "code",
   "execution_count": null,
   "id": "3688d87e",
   "metadata": {
    "tags": []
   },
   "outputs": [],
   "source": [
    "missing_binge_drinks = ...\n",
    "missing_binge_drinks"
   ]
  },
  {
   "cell_type": "code",
   "execution_count": null,
   "id": "a532eb73",
   "metadata": {
    "deletable": false,
    "editable": false
   },
   "outputs": [],
   "source": [
    "grader.check(\"q1c\")"
   ]
  },
  {
   "cell_type": "markdown",
   "id": "ddf7a94f",
   "metadata": {},
   "source": [
    "<!-- BEGIN QUESTION -->\n",
    "\n",
    "## Q1D \n",
    "\n",
    "Say we wanted to find the average of one of the columns from our original table. How does the inclusion of `-1` values *affect* this average? If we removed all the negative values, how would the average change?"
   ]
  },
  {
   "cell_type": "markdown",
   "id": "7f11a1eb",
   "metadata": {},
   "source": [
    "*Fill in your answer here*"
   ]
  },
  {
   "cell_type": "markdown",
   "id": "5f6407e8",
   "metadata": {},
   "source": [
    "<!-- END QUESTION -->\n",
    "\n",
    "Then, once you've answered, run the following cell to confirm your understanding."
   ]
  },
  {
   "cell_type": "code",
   "execution_count": null,
   "id": "e01dcb51",
   "metadata": {
    "tags": []
   },
   "outputs": [],
   "source": [
    "brfss_no_negatives_children = brfss.where(\"Children\", are.not_equal_to(-1))\n",
    "print(f\"With negatives: {np.average(brfss.column('Children'))}\")\n",
    "print(f\"Without negatives: {np.average(brfss_no_negatives_children.column('Children'))}\")"
   ]
  },
  {
   "cell_type": "markdown",
   "id": "c346d88b",
   "metadata": {},
   "source": [
    "## Q1E \n",
    "\n",
    "As an **_extra challenge_**, see if you can output Alabama's average number of children for all respondents who gave an answer (i.e. do not have a value of -1) **without using the `np.average` function**. You should use the table `brfss_no_negatives_children` that's defined in the cell above.\n",
    "\n",
    "*Note*: We've provided some starter code. Feel free to use it or try another approach!"
   ]
  },
  {
   "cell_type": "code",
   "execution_count": null,
   "id": "5402c184",
   "metadata": {
    "tags": []
   },
   "outputs": [],
   "source": [
    "alabama_tbl = ...\n",
    "children_total = ...\n",
    "average_num_children = ...\n",
    "average_num_children"
   ]
  },
  {
   "cell_type": "code",
   "execution_count": null,
   "id": "e566b9ca",
   "metadata": {
    "deletable": false,
    "editable": false
   },
   "outputs": [],
   "source": [
    "grader.check(\"q1e\")"
   ]
  },
  {
   "cell_type": "markdown",
   "id": "d8e1f798",
   "metadata": {},
   "source": [
    "## Q1F\n",
    "\n",
    "Using the `no_missing_income` table we've provided for you, determine the **average income** (from `Income Upper`) for respondents who:\n",
    "\n",
    "1. Have a health insurance plan (\"Yes\" in \"Health Plan\" column)\n",
    "2. Do not have a health insurance plan (\"No\" in \"Health Plan\" column)\n",
    "3. Refused to answer this question (\"Declined to Answer\" in \"Health Plan\" column)"
   ]
  },
  {
   "cell_type": "code",
   "execution_count": null,
   "id": "9c78a999",
   "metadata": {
    "tags": []
   },
   "outputs": [],
   "source": [
    "no_missing_income = brfss.where(\"Income Upper\", are.not_equal_to(-1))\n",
    "\n",
    "health_plan = ...\n",
    "no_health_plan = ...\n",
    "declined = ...\n",
    "\n",
    "average_plan = ...\n",
    "average_no_plan = ...\n",
    "average_declined = ...\n",
    "print(f\"Respondents with a Health Insurance Plan made: \\t\\t${round(average_plan, 2)}\")\n",
    "print(f\"Respondents without a Health Insurance Plan made: \\t${round(average_no_plan, 2)}\")\n",
    "print(f\"Respondents who refused to answer made: \\t\\t${round(average_declined, 2)}\")"
   ]
  },
  {
   "cell_type": "code",
   "execution_count": null,
   "id": "137a9189",
   "metadata": {
    "deletable": false,
    "editable": false
   },
   "outputs": [],
   "source": [
    "grader.check(\"q1f\")"
   ]
  },
  {
   "cell_type": "markdown",
   "id": "cd2371c9",
   "metadata": {},
   "source": [
    "# Question 2 \n",
    "\n",
    "We will continue looking at the `brfss` data set, but also look at specific aspects of this data. "
   ]
  },
  {
   "cell_type": "markdown",
   "id": "f58bf690",
   "metadata": {},
   "source": [
    "### `barh`\n",
    "\n",
    "The `barh` (horizontal bar chart) method is used to visualize **categorical** variable values. Categorical variables are non-numbers, like names and qualities (Color, State Names, etc.). As we saw in lecture, categorical variables come in 2 different types: *ordinal* and *nominal*. \n",
    "\n",
    "The `barh` method takes in 1 mandatory argument, which is the **name of the column** you want on the left (vertical) axis of your `barh` plot. There are also optional arguments that have to do with plotting -- you'll see examples of those in this lab and in the homework. The remaining optional arguments in the `datascience` documentation linked above can also be used, feel free to try out some of the others on your own!\n",
    "\n",
    "To use the `barh` method properly, we first need to select the columns we want to see in the graph. We should not call `barh` directly on a large `Table` because without specifying a column, we get a bar graph for every single instance of every single variable, which you can imagine results in a lot of bar graphs."
   ]
  },
  {
   "cell_type": "markdown",
   "id": "ac746763",
   "metadata": {},
   "source": [
    "<!-- BEGIN QUESTION -->\n",
    "\n",
    "## Q2A \n",
    "\n",
    "Plot a horizontal bar chart that shows the counts of each category from the `\"Days Smoking\"` column of the `brfss` table. \n",
    "\n",
    "*Hint*: Use the `smoking_counts` table."
   ]
  },
  {
   "cell_type": "code",
   "execution_count": null,
   "id": "cd1bceea",
   "metadata": {
    "tags": []
   },
   "outputs": [],
   "source": [
    "smoking_counts = Table.read_table(\"data/smoking_counts.csv\")\n",
    "..."
   ]
  },
  {
   "cell_type": "markdown",
   "id": "40e02149",
   "metadata": {
    "tags": []
   },
   "source": [
    "<!-- END QUESTION -->\n",
    "\n",
    "### Multiple Columns \n",
    "\n",
    "We can also use `barh` to see multiple statistics at once. Let's use the `barh` method to see the average number of both *poor mental health* and *poor physical health* days. We'll be using the following columns:\n",
    "1. `\"Physical Health\"`: Now thinking about your physical health, which includes physical illness and injury, for how many days during the past 30 days was your physical health not good? \n",
    "2. `\"Mental Health\"`: Now thinking about your mental health, which includes stress, depression, and problems with emotions, for how many days during the past 30 days was your mental health not good? \n",
    "\n",
    "Run the following cell to show an example of how to create an *overlaid bar chart* with two statistics."
   ]
  },
  {
   "cell_type": "code",
   "execution_count": null,
   "id": "69fdd153",
   "metadata": {
    "tags": []
   },
   "outputs": [],
   "source": [
    "state_averages = Table.read_table(\"data/state_averages.csv\")\n",
    "state_averages"
   ]
  },
  {
   "cell_type": "code",
   "execution_count": null,
   "id": "96f7bc50",
   "metadata": {
    "tags": []
   },
   "outputs": [],
   "source": [
    "# We must group first to get our desired columns, then we can call barh\n",
    "state_averages.barh(\"State\", overlay=True)"
   ]
  },
  {
   "cell_type": "markdown",
   "id": "2cbc7be6",
   "metadata": {},
   "source": [
    "If we want different visualizations for each variable, we can set the optional `overlay` argument to `False`. The default value of `overlay` is `True`, so if you don't give it a value, you will get a plot with all the included variables at once."
   ]
  },
  {
   "cell_type": "code",
   "execution_count": null,
   "id": "dcf0a3f8",
   "metadata": {
    "tags": []
   },
   "outputs": [],
   "source": [
    "state_averages.barh(\"State\", overlay=False)"
   ]
  },
  {
   "cell_type": "markdown",
   "id": "6fd9f4b0",
   "metadata": {},
   "source": [
    "That way we can choose if we want to have one plot with all our information or a new plot for each piece of information!\n",
    "\n",
    "In this case, do we prefer an overlaid plot or two separate plots? Can you think of a case where we might want to have two separate plots instead of one overlaid plot? (Hint: think about the units for both variables — are they the same or different?)\n",
    "\n",
    "Discuss with the people around you. "
   ]
  },
  {
   "cell_type": "markdown",
   "id": "8e136790",
   "metadata": {},
   "source": [
    "### Where `barh` fails \n",
    "\n",
    "The `barh` method works well on categorical variables, but what if we have a **numerical** variable that we want to see the distribution in one particular state? Let's see what happens if we try to use `barh` on a numerical variable (`\"Binge Drinking\"`) instead of a categorical variable:"
   ]
  },
  {
   "cell_type": "code",
   "execution_count": null,
   "id": "9bea39e2",
   "metadata": {
    "tags": []
   },
   "outputs": [],
   "source": [
    "# Just run this cell -- don't worry about this `group` method\n",
    "brfss.group(\"Binge Drinks\").barh(\"Binge Drinks\")"
   ]
  },
  {
   "cell_type": "markdown",
   "id": "832ff6ee",
   "metadata": {},
   "source": [
    "As you can see, this bar plot is not particularly helpful. There are many categories that seem to not have any corresponding bar. Yet, that isn't the case! Seeing the breakdown of `\"Binge Drinks\"` does not provide us with any useful information, and it is also difficult to read or understand. Instead, for numerical variables, we have another visualization method that helps us visualize a numerical variable's distribution..."
   ]
  },
  {
   "cell_type": "markdown",
   "id": "e38e0b22",
   "metadata": {},
   "source": [
    "### `hist` \n",
    "\n",
    "The `hist` method allows us to see the distribution of a numerical variable. Categorical variables should be visualized using `barh`, and numerical variables should be visualized using `hist`.\n",
    "\n",
    "The `hist` method takes in 1 mandatory argument and has several optional arguments (as is the case with `barh`, there are many other optional arguments, but here are just a few of them). For this lab, we'll set **`density` to be `False`**.\n",
    "\n",
    "| **Argument** | **Description** | **Type** | **Mandatory?** |\n",
    "| -- | -- | -- | -- |\n",
    "| `column` | Column name whose values you want on the x-axis of your plot | Column name (string) | Yes |\n",
    "| `density` | If `True`, then the resulting plot will be displayed not on the count of a value, but on the density of that value in the Table | boolean | No |\n",
    "| `group` | Similar to the Table method `group`, groups rows by this label before plotting | Column name (string) | No |\n",
    "| `overlay` | When `False`, make a new plot for each eligible statistic in the Table | boolean | No |\n",
    "| `bins` | A NumPy array of bin boundaries you want your histogram to gather data into | array | No |\n",
    "| `unit` |  A name for the units of the plotted column | Column name (string) | No |\n",
    "\n",
    "**Again, in all cases, `density` should be set to `False`**\n",
    "\n",
    "Keep in mind the same plotting optional arguments mentioned in the `barh` introduction.\n",
    "\n",
    "Let's take a look at the distribution of exercise sessions in different states to see how the `hist` method helps visualize numerical variables, first starting with our favorite state, Michigan. We'll use the `sleep_no_negatives` table to exclude missing values (-1's)."
   ]
  },
  {
   "cell_type": "code",
   "execution_count": null,
   "id": "831a1fd5",
   "metadata": {
    "tags": []
   },
   "outputs": [],
   "source": [
    "sleep_no_negatives = brfss.where(\"Sleep Time\", are.not_equal_to(-1))"
   ]
  },
  {
   "cell_type": "code",
   "execution_count": null,
   "id": "0d235281",
   "metadata": {
    "tags": []
   },
   "outputs": [],
   "source": [
    "# This plot shows the distribution of sleep time for Michiganders\n",
    "my_bins = np.arange(0, 25, 1)\n",
    "michigan = sleep_no_negatives.where(\"State\", \"Michigan\")\n",
    "michigan.hist(\"Sleep Time\", density = False, bins=my_bins)"
   ]
  },
  {
   "cell_type": "markdown",
   "id": "f8df2813",
   "metadata": {
    "tags": []
   },
   "source": [
    "This shows us that people living in Michigan usually tend to sleep between 7 to 8 hours a night, but there are many people who sleep more hours (10+) or few hours (less than 5). Let's see how that compares to sleep time in another state, Indiana:"
   ]
  },
  {
   "cell_type": "markdown",
   "id": "3877c0da",
   "metadata": {},
   "source": [
    "<!-- BEGIN QUESTION -->\n",
    "\n",
    "## Q2B  \n",
    "\n",
    "Fill in the following **code cell** to produce a histogram representing the ***distribution of sleep time*** for respondents from the state of Indiana.\n",
    "\n",
    "*Note*: Set the optional `bins` argument of the `hist` method to `my_bins`. We've provided this variable for you.\n"
   ]
  },
  {
   "cell_type": "code",
   "execution_count": null,
   "id": "e16130e7",
   "metadata": {
    "tags": []
   },
   "outputs": [],
   "source": [
    "# This plot shows the distribution of sleep time for Indiana residents\n",
    "my_bins = np.arange(0, 25, 1)\n",
    "ind = ...\n",
    "..."
   ]
  },
  {
   "cell_type": "markdown",
   "id": "33614be4",
   "metadata": {},
   "source": [
    "<!-- END QUESTION -->\n",
    "\n",
    "### Michigan vs. Indiana\n",
    "\n"
   ]
  },
  {
   "cell_type": "markdown",
   "id": "bfd2909e",
   "metadata": {},
   "source": [
    "We can use `hist` on a `Table` with just rows for these two states and use the optional `group` argument.\n",
    "\n",
    "*Note*: You'll see how `are.contained_in` works with the `where` method later on. For now, think of it as finding any rows corresponding to *either* `\"Michigan\"` or `\"Indiana\"`."
   ]
  },
  {
   "cell_type": "code",
   "execution_count": null,
   "id": "23b956e4",
   "metadata": {
    "tags": []
   },
   "outputs": [],
   "source": [
    "# Just run this cell to load the `il_ca` table\n",
    "in_mi = sleep_no_negatives.where(\"State\", \n",
    "                                 are.contained_in([\"Michigan\", \"Indiana\"]))\n",
    "in_mi.show(5)"
   ]
  },
  {
   "cell_type": "markdown",
   "id": "6468dab6",
   "metadata": {},
   "source": [
    "<!-- BEGIN QUESTION -->\n",
    "\n",
    "## Q2C \n",
    "\n",
    "Now that we've created our `il_mi` table, fill in the following **code cell** to produce a histogram representing the ***distribution of sleep time*** for *both* California and Illinois. You'll first need to `select` the necessary columns from `il_ca` then fill in the appropriate call to the `hist` method.\n",
    "\n",
    "*Hint*: Take a look at the optional `group` argument from the description above.\n",
    "\n",
    "*Note*: Set the optional `bins` argument of the `hist` method to `my_bins`. We've provided this variable for you.\n"
   ]
  },
  {
   "cell_type": "code",
   "execution_count": null,
   "id": "1f53f1fb",
   "metadata": {
    "tags": []
   },
   "outputs": [],
   "source": [
    "# plot shows the distribution of sleep time for people from Michigan AND Indiana\n",
    "my_bins = np.arange(0, 25, 1)\n",
    "..."
   ]
  },
  {
   "cell_type": "markdown",
   "id": "91e49195",
   "metadata": {},
   "source": [
    "<!-- END QUESTION -->\n",
    "\n",
    "It appears that sleep time in Michian is a very similar, on average, to the sleep time in Indiana. The plot above shows the Michigan `Sleep Time` to be almost exactly on top of the Indiana's `Sleep Time`. Let's see if we can use a table query to figure out the same information:"
   ]
  },
  {
   "cell_type": "code",
   "execution_count": null,
   "id": "db51d55d",
   "metadata": {
    "tags": []
   },
   "outputs": [],
   "source": [
    "print(f\"Michigan average:\\t{np.mean(michigan.column('Sleep Time'))}\")\n",
    "print(f\"Indiana average:\\t{np.mean(ind.column('Sleep Time'))}\")"
   ]
  },
  {
   "cell_type": "markdown",
   "id": "90e70324",
   "metadata": {},
   "source": [
    "As we can see, the plot we made appeared to suggest that average amount of sleep should be very similar between Michigan and Indiana, and the table operations reflected that! This is a benefit of visualization, that information can be learned about the dataset with just visual observation. It is always beneficial to back your claims about data with concrete facts about the dataset, but visualizations can help abstract away some of the confusion of looking at raw data so that non-data-scientists can better understand what is going on."
   ]
  },
  {
   "cell_type": "markdown",
   "id": "831efdb4",
   "metadata": {},
   "source": [
    "### Discussion \n",
    "\n",
    "Now, think about what would happen if you chose two states with **very different counts**, why would it be more difficult to compare them with histograms? \n",
    "\n",
    "Once you've discussed with someone around you, proceed with the code cells below to confirm your answers. We'll look to compare **Texas** and **Delaware**.\n"
   ]
  },
  {
   "cell_type": "code",
   "execution_count": null,
   "id": "a3744bf6",
   "metadata": {
    "tags": []
   },
   "outputs": [],
   "source": [
    "# Just run this cell\n",
    "texas = sleep_no_negatives.where(\"State\", \"Texas\")\n",
    "delaware = sleep_no_negatives.where(\"State\", \"Delaware\")\n",
    "print(f\"Texans in `cleaned_exercise_mental_health` dataset: {texas.num_rows}\")\n",
    "print(f\"Delawareans in `cleaned_exercise_mental_health` dataset: {delaware.num_rows}\")"
   ]
  },
  {
   "cell_type": "markdown",
   "id": "f518aaba",
   "metadata": {},
   "source": [
    "Each individual plot looks fine:"
   ]
  },
  {
   "cell_type": "code",
   "execution_count": null,
   "id": "331ddb0a",
   "metadata": {
    "tags": []
   },
   "outputs": [],
   "source": [
    "# This plot shows the distribution of sleep times for Texas respondents\n",
    "my_bins = np.arange(0, 25, 1)\n",
    "texas.hist(\"Sleep Time\", density = False, bins=my_bins)"
   ]
  },
  {
   "cell_type": "code",
   "execution_count": null,
   "id": "dc258ec7",
   "metadata": {
    "tags": []
   },
   "outputs": [],
   "source": [
    "# This plot shows the distribution of sleep times for Delaware respondents\n",
    "my_bins = np.arange(0, 25, 1)\n",
    "delaware.hist(\"Sleep Time\", density = False, bins=my_bins)"
   ]
  },
  {
   "cell_type": "markdown",
   "id": "c7223208",
   "metadata": {},
   "source": [
    "Take a look at the y-axis on both of these plots. What do you think will happen when we try to plot them on the same graph?"
   ]
  },
  {
   "cell_type": "code",
   "execution_count": null,
   "id": "5474e53a",
   "metadata": {
    "tags": []
   },
   "outputs": [],
   "source": [
    "# Just run this cell\n",
    "texas_delaware = sleep_no_negatives.where(\"State\", are.contained_in([\"Texas\", \"Delaware\"]))\n",
    "texas_delaware.show(5)"
   ]
  },
  {
   "cell_type": "markdown",
   "id": "301d8ec4",
   "metadata": {},
   "source": [
    "<!-- BEGIN QUESTION -->\n",
    "\n",
    "## Q2D \n",
    "\n",
    "Using the code in **Question 2C** as reference, produce a histogram showing the distribution of sleep time for respondents from *Delaware* and *Texas*. What do you notice about this plot?"
   ]
  },
  {
   "cell_type": "code",
   "execution_count": null,
   "id": "2b74eabb",
   "metadata": {
    "tags": []
   },
   "outputs": [],
   "source": [
    "# plot shows the distribution of sleep times for people from Delaware and \n",
    "#  Texas exercised in a month\n",
    "my_bins = np.arange(0, 25, 1)\n",
    "..."
   ]
  },
  {
   "cell_type": "markdown",
   "id": "3c11e896",
   "metadata": {},
   "source": [
    "<!-- END QUESTION -->\n",
    "\n",
    "As you can see, there is so much more Texas data than Delaware data that we can hardly make comparisons between the two. Trying to figure out information from this plot is very difficult, so we would either have to use another type of visualization or change the perspective of this plot to be able to learn from it."
   ]
  },
  {
   "cell_type": "markdown",
   "id": "6c32b0ed",
   "metadata": {},
   "source": [
    "### `scatter` \n",
    "\n",
    "As we mentioned, visualizing two variables can show us patterns in the data that can help us learn new information. The `scatter` method allows us to see the relationship between two numerical variables in our data using a **scatter plot**. The first provided column name goes along the x-axis and the second goes along the y-axis.\n",
    "\n",
    "Let's take a look at the relationship between **Physical Health** and **Alcohol Consumption**. For reference, here are the following questions from the original BRFSS Survey that correspond to our `\"Physical Health\"` and `\"Binge Drinks\"` columns.\n",
    "\n",
    "> **Physical Health:** Now thinking about your physical health, which includes physical illness and injury, for how many days during\n",
    "the past 30 days was your physical health not good? \n",
    "\n",
    "\n",
    ">**Binge Drinks**: Considering all types of alcoholic beverages, how many times during the past 30 days did you have 5 or more drinks for men or 4 or more drinks for women on an occasion?"
   ]
  },
  {
   "cell_type": "markdown",
   "id": "2097b674",
   "metadata": {},
   "source": [
    "## Q2E \n",
    "\n",
    "### Data Cleaning\n",
    "\n",
    "As was the case with our previous visualizations lab, we know that the missing numerical values are encoded as `-1`s. Create a new table called `scatter_cleaned` which contains every row from the original `brfss` table that *does not* contain a `-1` in either the `\"Physical Health\"` column or the `\"Binge Drinks\"` column.\n",
    "\n",
    "*Hint*: If you're having trouble with the code, feel free to reference the `barh` section of this lab.\n"
   ]
  },
  {
   "cell_type": "code",
   "execution_count": null,
   "id": "db23c41a",
   "metadata": {
    "tags": []
   },
   "outputs": [],
   "source": [
    "\n",
    "scatter_cleaned = ...\n",
    "scatter_cleaned.show(5)"
   ]
  },
  {
   "cell_type": "code",
   "execution_count": null,
   "id": "af77d53e",
   "metadata": {
    "deletable": false,
    "editable": false
   },
   "outputs": [],
   "source": [
    "grader.check(\"q2e\")"
   ]
  },
  {
   "cell_type": "markdown",
   "id": "31b175b8",
   "metadata": {},
   "source": [
    "### Scatter Plots \n",
    "\n",
    "Now, we can call `scatter` on the `scatter_cleaned` table. Run the following cell to do so."
   ]
  },
  {
   "cell_type": "code",
   "execution_count": null,
   "id": "1eb5afdb",
   "metadata": {
    "tags": []
   },
   "outputs": [],
   "source": [
    "scatter_cleaned.scatter(\"Binge Drinks\", \"Physical Health\")"
   ]
  },
  {
   "cell_type": "markdown",
   "id": "3d7e4615",
   "metadata": {},
   "source": [
    "Just like that, you've produced your first scatter plot! It looks a little messy, however. Oftentimes scatter plots can suffer from what's known as **[overplotting](https://www.displayr.com/what-is-overplotting/)**: when many data points fall on top of each other, creating a blob of data. When data is *overplot*, it's often difficult to see the individual data points on the scatter plot.\n",
    "\n",
    "To fix this, we attempt to focus in on a smaller subset of the data. In this case, we'll look at points in which `\"Binge Drinks\"` falls between 0 and 30 days and the `\"Physical Health\"` column falls between 0 and 30 days."
   ]
  },
  {
   "cell_type": "code",
   "execution_count": null,
   "id": "37d099fb",
   "metadata": {
    "tags": []
   },
   "outputs": [],
   "source": [
    "# Create a smaller subset of data\n",
    "scatter_reduced = scatter_cleaned.where(\"Binge Drinks\", \n",
    "                                are.below(30)).where(\"Physical Health\", are.below(30))\n",
    "scatter_reduced"
   ]
  },
  {
   "cell_type": "markdown",
   "id": "e3f48b3c",
   "metadata": {},
   "source": [
    "<!-- BEGIN QUESTION -->\n",
    "\n",
    "## Q2F\n",
    "\n",
    "Using the `scatter_reduced` table, produce a scatterplot that plots \"`Binge Drinks\"` on the x-axis and `\"Physcial Health\"` on the y-axis. The code should be very similar to the previous scatter plot."
   ]
  },
  {
   "cell_type": "code",
   "execution_count": null,
   "id": "48748601",
   "metadata": {
    "tags": []
   },
   "outputs": [],
   "source": [
    "...\n"
   ]
  },
  {
   "cell_type": "markdown",
   "id": "dcc679f3",
   "metadata": {},
   "source": [
    "<!-- END QUESTION -->\n",
    "\n",
    "### The `group` and `labels` Optional Arguments\n",
    "\n",
    "The `scatter` method also allows you to specify specific groups or labels for each data point using the `group` or `labels` keyword arguments. \n",
    "\n",
    "Say we wanted to investigate the relationship between an individual's **number of children** and their **mental health**. The corresponding questions from the original BRFSS survey were as follows:\n",
    ">  **Mental Health**: Now thinking about your mental health, which includes stress, depression, and problems with emotions, for how many days during the past 30 days was your mental health not good?\n",
    "\n",
    "> **Children**: How many children less than 18 years of age live in your household?\n",
    "\n"
   ]
  },
  {
   "cell_type": "markdown",
   "id": "e7cc589d",
   "metadata": {},
   "source": [
    "<!-- BEGIN QUESTION -->\n",
    "\n",
    "## Q2G\n",
    "\n",
    "In order to take advantage of the optional arguments, let's first load an additional table from the `\"states_scatter.csv\"` file. We'll provide the code for this.\n",
    "\n",
    "Then, using the `states` table, produce a scatter plot that plots the average children against the average number of poor mental health days. "
   ]
  },
  {
   "cell_type": "code",
   "execution_count": null,
   "id": "92ac9f2d",
   "metadata": {
    "tags": []
   },
   "outputs": [],
   "source": [
    "states = Table.read_table(\"data/states_scatter.csv\")\n",
    "states"
   ]
  },
  {
   "cell_type": "code",
   "execution_count": null,
   "id": "d868de59",
   "metadata": {
    "tags": []
   },
   "outputs": [],
   "source": [
    "...\n"
   ]
  },
  {
   "cell_type": "markdown",
   "id": "30965b22",
   "metadata": {},
   "source": [
    "<!-- END QUESTION -->\n",
    "\n",
    "This plot looks good, but it is difficult to see which points correspond to which states. To give each data point it's city name, we can use the `group` or `label` arguments:"
   ]
  },
  {
   "cell_type": "code",
   "execution_count": null,
   "id": "843c2112",
   "metadata": {
    "tags": []
   },
   "outputs": [],
   "source": [
    "states.scatter(\"Children mean\", \"Mental Health mean\", labels=\"State\")"
   ]
  },
  {
   "cell_type": "code",
   "execution_count": null,
   "id": "f4c36b5d",
   "metadata": {
    "tags": []
   },
   "outputs": [],
   "source": [
    "states.scatter(\"Children mean\", \"Mental Health mean\", group=\"State\")"
   ]
  },
  {
   "cell_type": "markdown",
   "id": "1880234f",
   "metadata": {},
   "source": [
    "Neither of these plots are perfect given the number of data points, It is important to weigh the pros and cons of using each argument, as both will be more useful depending on the application\n",
    "\n",
    "Scatter plots are useful when visualizing two numerical variables together. If you want to plot two numerical variables but one of those variables corresponds to time, we can use a line plot to visualize the non-time variable as time passes.\n",
    "\n",
    "### `plot`\n",
    "\n",
    "Similar to `scatter`, we give plot the names of two numerical columns and it creates a **line plot** for us. If we want to draw multiple line plots on the same set of axes, we give it a table with multiple numerical columns, and tell it which one contains the values for the x-axis.\n",
    "\n",
    "The `plot` method allows us to see how non-time variables change over time. Let's use `plot` to look at the exercise patterns over the course of the year. First, we will look at a single line plot using `plot`:"
   ]
  },
  {
   "cell_type": "code",
   "execution_count": null,
   "id": "6d1cd34e",
   "metadata": {
    "tags": []
   },
   "outputs": [],
   "source": [
    "# Just run this cell to load a new table\n",
    "months = Table.read_table(\"data/months.csv\")\n",
    "months"
   ]
  },
  {
   "cell_type": "markdown",
   "id": "a0fe0174",
   "metadata": {},
   "source": [
    "<!-- BEGIN QUESTION -->\n",
    "\n",
    "## Q2H\n",
    "\n",
    "Using the `months` table and the `plot` method, produce a *line plot* that plots the average sleep time over time\n",
    "\n",
    "*Hint*: You'll want to plot the month on the x-is and average exercise sessions on the y-axis.\n"
   ]
  },
  {
   "cell_type": "code",
   "execution_count": null,
   "id": "85429919",
   "metadata": {
    "tags": []
   },
   "outputs": [],
   "source": [
    "...\n"
   ]
  },
  {
   "cell_type": "markdown",
   "id": "0e2306bd",
   "metadata": {},
   "source": [
    "<!-- END QUESTION -->\n",
    "\n",
    "### Identifying Temporal Patterns\n",
    " \n",
    " Line plots are incredibly effective tools for identifying temporal patterns (i.e. changes over time). Let's utilize our newfound knowledge of the `plot` method to uncover underlying temporal patterns within our BRFSS data. Run the following cells and answer the question that follows."
   ]
  },
  {
   "cell_type": "code",
   "execution_count": null,
   "id": "281413b3",
   "metadata": {
    "tags": []
   },
   "outputs": [],
   "source": [
    "# Run this cell -- you should understand how this code works\n",
    "vermont = sleep_no_negatives.where(\"State\", \"Vermont\")\n",
    "florida = sleep_no_negatives.where(\"State\", \"Florida\")"
   ]
  },
  {
   "cell_type": "code",
   "execution_count": null,
   "id": "5f9a6d5c",
   "metadata": {
    "tags": []
   },
   "outputs": [],
   "source": [
    "# Run this cell to produce a line plot for Vermont\n",
    "vt_grouped = vermont.group(\"Month\", np.average)\n",
    "vt_grouped.plot(\"Month\", \"Sleep Time average\")"
   ]
  },
  {
   "cell_type": "code",
   "execution_count": null,
   "id": "afc7b6ae",
   "metadata": {
    "tags": []
   },
   "outputs": [],
   "source": [
    "# Run this cell to produce a line plot for Florida\n",
    "fl_grouped = florida.group(\"Month\", np.average)\n",
    "fl_grouped.plot(\"Month\", \"Sleep Time average\")"
   ]
  },
  {
   "cell_type": "markdown",
   "id": "15884920",
   "metadata": {
    "tags": []
   },
   "source": [
    "<!-- BEGIN QUESTION -->\n",
    "\n",
    "If we want to see multiple variables on one plot, we can include them in the table we call `plot` on. \n",
    "\n",
    "## Q2I \n",
    "\n",
    "For both the `data/vermont_averages.csv` and `data/florida_averages.csv` files, read the file into two new tables, `vt_health` and `fl_health`, respectively. Then, for each table, select the following columns:\n",
    "1. Month\n",
    "2. Physical Health average\n",
    "3. Mental Health average\n",
    "\n",
    "Finally, produce a scatter plot with *one line per variable* that is not `\"Month\"`. That is, `\"Month\"` is what should be plotted on the x-axis.\n",
    "\n",
    "> ***Hint:** Check the top of the notebook for an example of how to load data* \n"
   ]
  },
  {
   "cell_type": "code",
   "execution_count": null,
   "id": "9ecaf411",
   "metadata": {
    "tags": []
   },
   "outputs": [],
   "source": [
    "vt_health = ...\n",
    "fl_health = ..."
   ]
  },
  {
   "cell_type": "code",
   "execution_count": null,
   "id": "f09cf4df",
   "metadata": {
    "tags": []
   },
   "outputs": [],
   "source": [
    "vt_health.show(5)"
   ]
  },
  {
   "cell_type": "code",
   "execution_count": null,
   "id": "c4b54765",
   "metadata": {
    "tags": []
   },
   "outputs": [],
   "source": [
    "# Create the line plot for Vermont \n",
    "..."
   ]
  },
  {
   "cell_type": "code",
   "execution_count": null,
   "id": "bf14b0f0",
   "metadata": {
    "tags": []
   },
   "outputs": [],
   "source": [
    "# Create the line plot for Florida \n",
    "..."
   ]
  },
  {
   "cell_type": "markdown",
   "id": "1b95979a",
   "metadata": {},
   "source": [
    "<!-- END QUESTION -->\n",
    "\n"
   ]
  },
  {
   "cell_type": "markdown",
   "id": "e26b1fdc",
   "metadata": {
    "deletable": false,
    "editable": false
   },
   "source": [
    "## Submission\n",
    "\n",
    "Make sure you have run all cells in your notebook in order before running the cell below, so that all images/graphs appear in the output. The cell below will generate a zip file for you to submit. **Please save before exporting!**"
   ]
  },
  {
   "cell_type": "code",
   "execution_count": null,
   "id": "96b63bbb",
   "metadata": {
    "deletable": false,
    "editable": false
   },
   "outputs": [],
   "source": [
    "# Save your notebook first, then run this cell to export your submission.\n",
    "grader.export(pdf=False, run_tests=True)"
   ]
  },
  {
   "cell_type": "markdown",
   "id": "6aa73c5b",
   "metadata": {},
   "source": [
    " "
   ]
  }
 ],
 "metadata": {
  "kernelspec": {
   "display_name": "Python [conda env:un5550] *",
   "language": "python",
   "name": "conda-env-un5550-py"
  },
  "language_info": {
   "codemirror_mode": {
    "name": "ipython",
    "version": 3
   },
   "file_extension": ".py",
   "mimetype": "text/x-python",
   "name": "python",
   "nbconvert_exporter": "python",
   "pygments_lexer": "ipython3",
   "version": "3.10.12"
  },
  "otter": {
   "OK_FORMAT": true,
   "tests": {
    "q1a": {
     "name": "q1a",
     "points": 2,
     "suites": [
      {
       "cases": [
        {
         "code": ">>> num_rows_brfss == 100000\nTrue",
         "hidden": false,
         "locked": false
        },
        {
         "code": ">>> num_columns_brfss == 23\nTrue",
         "hidden": false,
         "locked": false
        }
       ],
       "scored": true,
       "setup": "",
       "teardown": "",
       "type": "doctest"
      }
     ]
    },
    "q1b": {
     "name": "q1b",
     "points": 1,
     "suites": [
      {
       "cases": [
        {
         "code": ">>> num_alabama_rows == 1352\nTrue",
         "hidden": false,
         "locked": false
        }
       ],
       "scored": true,
       "setup": "",
       "teardown": "",
       "type": "doctest"
      }
     ]
    },
    "q1c": {
     "name": "q1c",
     "points": 2,
     "suites": [
      {
       "cases": [
        {
         "code": ">>> missing_binge_drinks.num_rows == 51042\nTrue",
         "hidden": false,
         "locked": false
        }
       ],
       "scored": true,
       "setup": "",
       "teardown": "",
       "type": "doctest"
      }
     ]
    },
    "q1e": {
     "name": "q1e",
     "points": 2,
     "suites": [
      {
       "cases": [
        {
         "code": ">>> np.isclose(average_num_children, 0.5443698732289336)\nTrue",
         "hidden": false,
         "locked": false
        }
       ],
       "scored": true,
       "setup": "",
       "teardown": "",
       "type": "doctest"
      }
     ]
    },
    "q1f": {
     "name": "q1f",
     "points": 3,
     "suites": [
      {
       "cases": [
        {
         "code": ">>> np.isclose(average_plan,43832.35496992514)\nTrue",
         "hidden": false,
         "locked": false
        },
        {
         "code": ">>> np.isclose(average_no_plan, 34940.17647058824)\nTrue",
         "hidden": false,
         "locked": false
        },
        {
         "code": ">>> np.isclose(average_declined, 30963.912280701756)\nTrue",
         "hidden": false,
         "locked": false
        }
       ],
       "scored": true,
       "setup": "",
       "teardown": "",
       "type": "doctest"
      }
     ]
    },
    "q2e": {
     "name": "q2e",
     "points": 2,
     "suites": [
      {
       "cases": [
        {
         "code": ">>> isinstance(scatter_cleaned, Table)\nTrue",
         "hidden": false,
         "locked": false
        },
        {
         "code": ">>> scatter_cleaned.num_rows == 48403\nTrue",
         "hidden": false,
         "locked": false
        }
       ],
       "scored": true,
       "setup": "",
       "teardown": "",
       "type": "doctest"
      }
     ]
    }
   }
  }
 },
 "nbformat": 4,
 "nbformat_minor": 5
}
