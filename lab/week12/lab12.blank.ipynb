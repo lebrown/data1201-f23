{
 "cells": [
  {
   "cell_type": "markdown",
   "metadata": {},
   "source": [
    "# Lab 12  \n",
    "\n",
    "## Visualizing Two Numerical Variables\n",
    "\n",
    "### DATA 1201, Fall 2023 \n"
   ]
  },
  {
   "cell_type": "code",
   "execution_count": null,
   "metadata": {
    "tags": []
   },
   "outputs": [],
   "source": [
    "from datascience import *\n",
    "import numpy as np\n",
    "Table.interactive_plots()"
   ]
  },
  {
   "cell_type": "markdown",
   "metadata": {},
   "source": [
    "Our first dataset today comes from [Basketball Reference](https://www.basketball-reference.com/leagues/NBA_2020_per_game.html). It contains per-game averages of statistics for players in the 2019-2020 NBA season.\n",
    "\n",
    "Run the cell below to load it in, select the relevant columns, and do some data cleaning.\n",
    "\n",
    "**Note:** Most of the interesting data comes from the \"better\" players in the league; we will only look at players who averaged at least 10 points per game in the season. This isn't perfect, since there were plenty of good players who averaged less than 10 points per game."
   ]
  },
  {
   "cell_type": "code",
   "execution_count": null,
   "metadata": {
    "tags": []
   },
   "outputs": [],
   "source": [
    "nba = Table.read_table('data/nba-2020.csv') \\\n",
    "           .select('Player', 'Pos', 'Tm', 'PTS', 'TRB', 'AST', '3PA', '3P%') \\\n",
    "           .where('3PA', are.not_equal_to(0))\n",
    "\n",
    "def remove_code(name):\n",
    "    return name[:name.index('\\\\')]\n",
    "\n",
    "def get_court(pos):\n",
    "    if 'G' in pos:\n",
    "        return 'Guard'\n",
    "    else:\n",
    "        return 'Forward'\n",
    "\n",
    "nba = nba.with_columns('Player', nba.apply(remove_code, 'Player'),\n",
    "                       'Pos', nba.apply(get_court, 'Pos')) \\\n",
    "         .where('PTS', are.above(10))"
   ]
  },
  {
   "cell_type": "code",
   "execution_count": null,
   "metadata": {
    "tags": []
   },
   "outputs": [],
   "source": [
    "nba"
   ]
  },
  {
   "cell_type": "markdown",
   "metadata": {},
   "source": [
    "A description of each column:\n",
    "\n",
    "- `'Player'`: name\n",
    "- `'Pos'`: general position (either Forward or Guard)\n",
    "- `'Tm'`: abbreviated team\n",
    "- `'PTS'`: average number of points scored per game\n",
    "- `'TRB'`: average number of rebounds per game (a player receives a rebound when they grab the ball after someone misses)\n",
    "- `'AST'`: average number of assists per game (a player receives an assist when they pass the ball to someone who then scores)\n",
    "- `'3PA'`: average number of three-point shots attempted per game (a three point shot is one from behind a certain line, which is between 22-24 feet from the basket)\n",
    "- `'3P%'`: average proportion of three-point shots that go in"
   ]
  },
  {
   "cell_type": "markdown",
   "metadata": {},
   "source": [
    "## Review – Bar Charts and Histograms"
   ]
  },
  {
   "cell_type": "markdown",
   "metadata": {},
   "source": [
    "### Bar Charts"
   ]
  },
  {
   "cell_type": "markdown",
   "metadata": {},
   "source": [
    "We can use the code below to generate average statistics for forwards and guards (different basketball positions). Don't worry about understanding `.group()` yet."
   ]
  },
  {
   "cell_type": "code",
   "execution_count": null,
   "metadata": {
    "tags": []
   },
   "outputs": [],
   "source": [
    "stats_by_pos = nba.group('Pos', np.mean).select('Pos', 'PTS mean', 'TRB mean', 'AST mean')\n",
    "stats_by_pos"
   ]
  },
  {
   "cell_type": "markdown",
   "metadata": {},
   "source": [
    "Now we can visualize this data by create a bar chart."
   ]
  },
  {
   "cell_type": "code",
   "execution_count": null,
   "metadata": {
    "tags": []
   },
   "outputs": [],
   "source": [
    "... # Create a bar chart of mean statistics by position"
   ]
  },
  {
   "cell_type": "markdown",
   "metadata": {},
   "source": [
    "### Histograms"
   ]
  },
  {
   "cell_type": "markdown",
   "metadata": {},
   "source": [
    "Recall that histograms allow us to see the distribution (or frequencies) of values for a numerical variable. For example, we can visualize the distribution of points in the NBA."
   ]
  },
  {
   "cell_type": "code",
   "execution_count": null,
   "metadata": {
    "tags": []
   },
   "outputs": [],
   "source": [
    "... # Create a histogram showing the distribution of points"
   ]
  },
  {
   "cell_type": "markdown",
   "metadata": {},
   "source": [
    "We can also use the `group` argument in `.hist` to plot distributions of numerical variables by category (e.g. forwards vs. guards)."
   ]
  },
  {
   "cell_type": "code",
   "execution_count": null,
   "metadata": {
    "tags": []
   },
   "outputs": [],
   "source": [
    "# Create a histogram showing the distribution of rebounds grouped by position\n",
    "..."
   ]
  },
  {
   "cell_type": "markdown",
   "metadata": {},
   "source": [
    "## Scatter Plots"
   ]
  },
  {
   "cell_type": "markdown",
   "metadata": {},
   "source": [
    "Scatter plots allow us to visualize and investigate relationships between two numerical variables. To start out, we're going to create an example table with some fake data for our variables `x` and `y`/."
   ]
  },
  {
   "cell_type": "code",
   "execution_count": null,
   "metadata": {
    "scrolled": true,
    "tags": []
   },
   "outputs": [],
   "source": [
    "example_data = Table().with_columns(\n",
    "    'x', np.array([1, 4, 4, 3, 6]),\n",
    "    'y', np.array([-1, 2, 8, 0, 1])\n",
    ")\n",
    "\n",
    "example_data"
   ]
  },
  {
   "cell_type": "markdown",
   "metadata": {},
   "source": [
    "Instead of looking at the data in a table, we can put it in a scatter plot using `tbl.scatter()`."
   ]
  },
  {
   "cell_type": "code",
   "execution_count": null,
   "metadata": {
    "tags": []
   },
   "outputs": [],
   "source": [
    "... # Create a scatter plot of y vs. x in `example_data`"
   ]
  },
  {
   "cell_type": "markdown",
   "metadata": {},
   "source": [
    "### Example 1"
   ]
  },
  {
   "cell_type": "markdown",
   "metadata": {},
   "source": [
    "Returning to our NBA data, we can explore the relationships between different statistics. For example, what is the relationship between the number of points scored by a player and the number of assists made by a player?"
   ]
  },
  {
   "cell_type": "code",
   "execution_count": null,
   "metadata": {
    "tags": []
   },
   "outputs": [],
   "source": [
    "... # Create a scatter plots showing points vs assists"
   ]
  },
  {
   "cell_type": "markdown",
   "metadata": {},
   "source": [
    "If we use the optional argument `labels` we can see which player each point corresponds to (although it is hard to tell for players in the bottom left)."
   ]
  },
  {
   "cell_type": "code",
   "execution_count": null,
   "metadata": {
    "tags": []
   },
   "outputs": [],
   "source": [
    "nba.scatter('PTS', 'AST', labels='Player')"
   ]
  },
  {
   "cell_type": "markdown",
   "metadata": {},
   "source": [
    "Observation: On average, as the number of points a player averages increases, the number of assists they average also increases."
   ]
  },
  {
   "cell_type": "markdown",
   "metadata": {},
   "source": [
    "### Quick Check 1"
   ]
  },
  {
   "cell_type": "markdown",
   "metadata": {},
   "source": [
    "Fill in the blanks to create a scatter plot showing Three-Point Attempts (`\"3PA\"`) vs. Rebounds (`\"TRB\"`) for **forwards** in the `nba` table."
   ]
  },
  {
   "cell_type": "code",
   "execution_count": null,
   "metadata": {
    "tags": []
   },
   "outputs": [],
   "source": [
    "nba.where(..., ...) \\\n",
    "          .scatter(..., ...,\n",
    "           xaxis_title = 'Rebounds Per Game (TRB)',\n",
    "           yaxis_title = 'Three-Point Attempts Per Game (3PA)',\n",
    "           title = '3PA vs. TRB for Forwards')"
   ]
  },
  {
   "cell_type": "markdown",
   "metadata": {},
   "source": [
    "Observation: on average, as the number of rebounds a player averages per game increases, the number of three point attempts they average per game decreases."
   ]
  },
  {
   "cell_type": "markdown",
   "metadata": {},
   "source": [
    "## More customization"
   ]
  },
  {
   "cell_type": "markdown",
   "metadata": {},
   "source": [
    "We can customize our plots even further by specifying optional arguments. "
   ]
  },
  {
   "cell_type": "markdown",
   "metadata": {},
   "source": [
    "### Point Size (`s` and `sizes`)"
   ]
  },
  {
   "cell_type": "code",
   "execution_count": null,
   "metadata": {
    "tags": []
   },
   "outputs": [],
   "source": [
    "nba.scatter('PTS', '3P%', s = 40)"
   ]
  },
  {
   "cell_type": "code",
   "execution_count": null,
   "metadata": {
    "tags": []
   },
   "outputs": [],
   "source": [
    "nba.scatter('PTS', '3P%', s = 40, sizes = '3PA')"
   ]
  },
  {
   "cell_type": "markdown",
   "metadata": {},
   "source": [
    "### Point Color by Grouping (`group`)"
   ]
  },
  {
   "cell_type": "code",
   "execution_count": null,
   "metadata": {
    "tags": []
   },
   "outputs": [],
   "source": [
    "nba.scatter('TRB', '3PA', group = 'Pos', s = 30)"
   ]
  },
  {
   "cell_type": "markdown",
   "metadata": {},
   "source": [
    "Observation: Guards tend to have fewer rebounds and more three-point attempts than forwards, who tend to have more rebounds and fewer three-point attempts."
   ]
  },
  {
   "cell_type": "markdown",
   "metadata": {},
   "source": [
    "### Labels (`labels`)"
   ]
  },
  {
   "cell_type": "code",
   "execution_count": null,
   "metadata": {
    "tags": []
   },
   "outputs": [],
   "source": [
    "nba.where('PTS', are.above(25)) \\\n",
    "   .scatter('PTS', 'AST',\n",
    "           labels = 'Player',\n",
    "           s = 30,\n",
    "           width = 500,\n",
    "           height = 500)"
   ]
  },
  {
   "cell_type": "code",
   "execution_count": null,
   "metadata": {
    "tags": []
   },
   "outputs": [],
   "source": [
    "nba.where('PTS', are.above(20)) \\\n",
    "   .scatter('PTS', 'AST',\n",
    "           labels = 'Player',\n",
    "           s = 30,\n",
    "           sizes = '3PA',\n",
    "           title = 'Players Averaging at least 20 PTS')"
   ]
  },
  {
   "cell_type": "markdown",
   "metadata": {},
   "source": [
    "## Line Plots"
   ]
  },
  {
   "cell_type": "markdown",
   "metadata": {},
   "source": [
    "Line plots are similar to scatter plots in that they visualize relationships between two numerical variables. However, one of the numerical variables has to have an order (like time or distance)."
   ]
  },
  {
   "cell_type": "code",
   "execution_count": null,
   "metadata": {
    "tags": []
   },
   "outputs": [],
   "source": [
    "nba_yearly = Table.read_table('data/nba-league-averages.csv') \\\n",
    "                  .select('Season', 'PTS', 'FGA', '3PA', '3P%', 'Pace')\n",
    "nba_yearly = nba_yearly.with_columns('Season', np.arange(2021, 1979, -1))\n",
    "nba_yearly"
   ]
  },
  {
   "cell_type": "markdown",
   "metadata": {},
   "source": [
    "Our second dataset also comes from Basketball Reference. This dataset contains team-based average statistics for each year.\n",
    "\n",
    "A little bit about our new dataset:\n",
    "- `'Season'`: the second calendar year for each season (e.g. `2018` refers to the 2017-18 season)\n",
    "- `'FGA'`: the average number of field goal attempts (shot attempts) per game\n",
    "- `'Pace'`: the average number of times a team had possession of the ball per game"
   ]
  },
  {
   "cell_type": "markdown",
   "metadata": {},
   "source": [
    "### Example 1"
   ]
  },
  {
   "cell_type": "code",
   "execution_count": null,
   "metadata": {
    "tags": []
   },
   "outputs": [],
   "source": [
    "... # Generate a line plot of `pace` by season"
   ]
  },
  {
   "cell_type": "markdown",
   "metadata": {},
   "source": [
    "Observation: The league slowed down in the late 90s and early 2000s, but is speeding back up."
   ]
  },
  {
   "cell_type": "markdown",
   "metadata": {},
   "source": [
    "### Example 2"
   ]
  },
  {
   "cell_type": "code",
   "execution_count": null,
   "metadata": {
    "tags": []
   },
   "outputs": [],
   "source": [
    "# Generate a line plot of three point attempts by season\n",
    "..."
   ]
  },
  {
   "cell_type": "markdown",
   "metadata": {},
   "source": [
    "Observation: The three-point shot has rapidly increased in popularity over the past decade."
   ]
  },
  {
   "cell_type": "markdown",
   "metadata": {},
   "source": [
    "### Example 3"
   ]
  },
  {
   "cell_type": "code",
   "execution_count": null,
   "metadata": {
    "tags": []
   },
   "outputs": [],
   "source": [
    "nba_yearly.select('Season', 'FGA', '3PA')"
   ]
  },
  {
   "cell_type": "code",
   "execution_count": null,
   "metadata": {
    "tags": []
   },
   "outputs": [],
   "source": [
    "# Plot both field goal attempts (FGA) and three-point attempts (3PA) by season\n",
    "... # Notice how we only supplied `plot` with a single argument"
   ]
  },
  {
   "cell_type": "markdown",
   "metadata": {},
   "source": [
    "Observation: Three point attempts have increase a lot since the 1980s, while the number of field goals (shots) attempted has stayed more or less the same."
   ]
  }
 ],
 "metadata": {
  "kernelspec": {
   "display_name": "Python [conda env:un5550] *",
   "language": "python",
   "name": "conda-env-un5550-py"
  },
  "language_info": {
   "codemirror_mode": {
    "name": "ipython",
    "version": 3
   },
   "file_extension": ".py",
   "mimetype": "text/x-python",
   "name": "python",
   "nbconvert_exporter": "python",
   "pygments_lexer": "ipython3",
   "version": "3.10.12"
  }
 },
 "nbformat": 4,
 "nbformat_minor": 4
}
