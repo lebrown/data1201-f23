{
 "cells": [
  {
   "cell_type": "code",
   "execution_count": null,
   "id": "f4ff7fce",
   "metadata": {
    "deletable": false,
    "editable": false
   },
   "outputs": [],
   "source": [
    "# Initialize Otter\n",
    "import otter\n",
    "grader = otter.Notebook(\"lab10.worksheet.ipynb\")"
   ]
  },
  {
   "cell_type": "markdown",
   "id": "bb297ae5-e6ae-4458-9e27-e4a9c3433083",
   "metadata": {},
   "source": [
    "# Lab 10 - Worksheet \n",
    "\n",
    "Complete and turn in by Nov 2, 7pm. \n",
    "\n"
   ]
  },
  {
   "cell_type": "code",
   "execution_count": null,
   "id": "4c9a6dd7-a53e-4cd8-b83e-83858ecdf804",
   "metadata": {
    "tags": []
   },
   "outputs": [],
   "source": [
    "# Don't change this cell; just run it. \n",
    "\n",
    "import numpy as np\n",
    "from datascience import *"
   ]
  },
  {
   "cell_type": "markdown",
   "id": "e6ee9ffa-1445-4278-aaaf-3a743d0f99bc",
   "metadata": {},
   "source": [
    "## WNBA Data \n",
    "\n",
    "We can use this dataset of statistics from the 2020 WNBA season to get more practice working with tables"
   ]
  },
  {
   "cell_type": "code",
   "execution_count": null,
   "id": "8c8f9308-7682-4dcd-a5a6-ddede345a88e",
   "metadata": {
    "tags": []
   },
   "outputs": [],
   "source": [
    "# Read in the data \n",
    "\n",
    "wnba = Table.read_table('data/wnba-2020.csv')\n",
    "wnba"
   ]
  },
  {
   "cell_type": "markdown",
   "id": "f6612812-81bd-4df6-95cb-db95f65a8b47",
   "metadata": {
    "deletable": false,
    "editable": false
   },
   "source": [
    "## Question 1 \n",
    "\n",
    "Determine the number of rows and columns in the Table. "
   ]
  },
  {
   "cell_type": "code",
   "execution_count": null,
   "id": "832ac04d-3fe2-463a-a030-22b09c8c2177",
   "metadata": {
    "tags": []
   },
   "outputs": [],
   "source": [
    "wnba_columns = ...\n",
    "wnba_rows = ..."
   ]
  },
  {
   "cell_type": "code",
   "execution_count": null,
   "id": "dd4016c4",
   "metadata": {
    "deletable": false,
    "editable": false
   },
   "outputs": [],
   "source": [
    "grader.check(\"q1\")"
   ]
  },
  {
   "cell_type": "markdown",
   "id": "31098ea7-1557-4f02-b782-a3d7a8afbcc8",
   "metadata": {
    "deletable": false,
    "editable": false
   },
   "source": [
    "## Question 2 \n",
    "\n",
    "Create a table of only the following columns: 'Player', 'Tm', 'Pos', 'G', 'PTS'\n",
    "\n",
    "Name this table `wnba_pts` "
   ]
  },
  {
   "cell_type": "code",
   "execution_count": null,
   "id": "edfe76d6-a7f1-4d5b-8481-d83f4256ef47",
   "metadata": {
    "tags": []
   },
   "outputs": [],
   "source": [
    "# Create a table of only the following columns:\n",
    "# 'Player', 'Tm', 'Pos', 'G', 'PTS'\n",
    "# Name this table `wnba_pts`\n",
    "wnba_pts = ..."
   ]
  },
  {
   "cell_type": "code",
   "execution_count": null,
   "id": "c3192fbc",
   "metadata": {
    "deletable": false,
    "editable": false
   },
   "outputs": [],
   "source": [
    "grader.check(\"q2\")"
   ]
  },
  {
   "cell_type": "markdown",
   "id": "e32f5adc-7e6d-4925-829e-4b59e71fae57",
   "metadata": {
    "deletable": false,
    "editable": false
   },
   "source": [
    "<!-- BEGIN QUESTION -->\n",
    "\n",
    "## Question 3 \n",
    "\n",
    "Show how to calculated the number of points scored per game for the `wnba_pts` table. "
   ]
  },
  {
   "cell_type": "code",
   "execution_count": null,
   "id": "d9568c08-5f14-4658-bf4e-16a416975958",
   "metadata": {
    "tags": []
   },
   "outputs": [],
   "source": [
    "# Compute the number of points scored per game (Points Per Game)\n",
    "..."
   ]
  },
  {
   "cell_type": "markdown",
   "id": "4406cd57-dbd7-4189-8a47-35801fb8d128",
   "metadata": {
    "deletable": false,
    "editable": false
   },
   "source": [
    "<!-- END QUESTION -->\n",
    "\n",
    "## Question 4\n",
    "\n",
    "Add a Points Per Game column to the existing `wnba_pts` table.  Call this column `PPG`. "
   ]
  },
  {
   "cell_type": "code",
   "execution_count": null,
   "id": "91f69cce-840f-4378-a639-3edad0088c05",
   "metadata": {
    "tags": []
   },
   "outputs": [],
   "source": [
    "# Add a Points Per Game column to the existing `wnba_pts` table\n",
    "...\n",
    "wnba_pts.show(10)"
   ]
  },
  {
   "cell_type": "code",
   "execution_count": null,
   "id": "c70484fe",
   "metadata": {
    "deletable": false,
    "editable": false
   },
   "outputs": [],
   "source": [
    "grader.check(\"q4\")"
   ]
  },
  {
   "cell_type": "markdown",
   "id": "14ff12cd",
   "metadata": {
    "deletable": false,
    "editable": false
   },
   "source": [
    "## Submission\n",
    "\n",
    "Make sure you have run all cells in your notebook in order before running the cell below, so that all images/graphs appear in the output. The cell below will generate a zip file for you to submit. **Please save before exporting!**"
   ]
  },
  {
   "cell_type": "code",
   "execution_count": null,
   "id": "ecb93284",
   "metadata": {
    "deletable": false,
    "editable": false
   },
   "outputs": [],
   "source": [
    "# Save your notebook first, then run this cell to export your submission.\n",
    "grader.export(pdf=False, run_tests=True)"
   ]
  },
  {
   "cell_type": "markdown",
   "id": "f0534119",
   "metadata": {},
   "source": [
    " "
   ]
  }
 ],
 "metadata": {
  "kernelspec": {
   "display_name": "Python [conda env:un5550] *",
   "language": "python",
   "name": "conda-env-un5550-py"
  },
  "language_info": {
   "codemirror_mode": {
    "name": "ipython",
    "version": 3
   },
   "file_extension": ".py",
   "mimetype": "text/x-python",
   "name": "python",
   "nbconvert_exporter": "python",
   "pygments_lexer": "ipython3",
   "version": "3.10.12"
  },
  "otter": {
   "OK_FORMAT": true,
   "tests": {
    "q1": {
     "name": "q1",
     "points": 4,
     "suites": [
      {
       "cases": [
        {
         "code": ">>> wnba_columns == 27\nTrue",
         "hidden": false,
         "locked": false
        },
        {
         "code": ">>> wnba_rows == 162\nTrue",
         "hidden": false,
         "locked": false
        }
       ],
       "scored": true,
       "setup": "",
       "teardown": "",
       "type": "doctest"
      }
     ]
    },
    "q2": {
     "name": "q2",
     "points": 6,
     "suites": [
      {
       "cases": [
        {
         "code": ">>> wnba_pts.num_rows == 162\nTrue",
         "hidden": false,
         "locked": false
        },
        {
         "code": ">>> wnba_pts.num_columns == 5\nTrue",
         "hidden": false,
         "locked": false
        },
        {
         "code": ">>> sorted(wnba_pts.labels) == ['G', 'PTS', 'Player', 'Pos', 'Tm']\nTrue",
         "hidden": false,
         "locked": false
        }
       ],
       "scored": true,
       "setup": "",
       "teardown": "",
       "type": "doctest"
      }
     ]
    },
    "q4": {
     "name": "q4",
     "points": 10,
     "suites": [
      {
       "cases": [
        {
         "code": ">>> wnba_pts.num_columns == 6 \nTrue",
         "hidden": false,
         "locked": false
        },
        {
         "code": ">>> sorted(wnba_pts.labels) == ['G', 'PPG', 'PTS', 'Player', 'Pos', 'Tm']\nTrue",
         "hidden": false,
         "locked": false
        }
       ],
       "scored": true,
       "setup": "",
       "teardown": "",
       "type": "doctest"
      }
     ]
    }
   }
  }
 },
 "nbformat": 4,
 "nbformat_minor": 5
}
