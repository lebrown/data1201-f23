{
 "cells": [
  {
   "cell_type": "markdown",
   "metadata": {},
   "source": [
    "# Lab 11 - Part 1 \n",
    "\n",
    "## Visualizing Categorical Variables\n",
    "\n",
    "### DATA 1201, Fall 2023 "
   ]
  },
  {
   "cell_type": "code",
   "execution_count": null,
   "metadata": {
    "tags": []
   },
   "outputs": [],
   "source": [
    "from datascience import * # datascience has plotting features built in\n",
    "import numpy as np\n",
    "\n",
    "import matplotlib.pyplot as plt\n",
    "%matplotlib inline\n",
    "plt.style.use(\"ggplot\")\n",
    "\n",
    "import warnings\n",
    "warnings.filterwarnings('ignore')\n",
    "#Table.interactive_plots() "
   ]
  },
  {
   "cell_type": "markdown",
   "metadata": {},
   "source": [
    "## Bar Charts"
   ]
  },
  {
   "cell_type": "markdown",
   "metadata": {},
   "source": [
    "Bar charts are helpful for visualizing the relationship between a categorical variable and a numerical variable, or for visualizing the distribution of a categorical variable. For example, we can visualize the number of cookies we have of each type (at our imaginary cookie store)."
   ]
  },
  {
   "cell_type": "code",
   "execution_count": null,
   "metadata": {
    "tags": []
   },
   "outputs": [],
   "source": [
    "cookies = Table()\n",
    "cookies = cookies.with_columns(\n",
    "    \"Cookie\", make_array(\"chocolate chip\", \"red velvet\", \"oatmeal raisin\",  \n",
    "                         \"sugar\", \"peanut butter\"),\n",
    "    \"Count\", make_array(15, 15, 10, 10, 5)\n",
    ")\n",
    "cookies"
   ]
  },
  {
   "cell_type": "code",
   "execution_count": null,
   "metadata": {
    "scrolled": true,
    "tags": []
   },
   "outputs": [],
   "source": [
    "cookies.barh('Cookie')"
   ]
  },
  {
   "cell_type": "markdown",
   "metadata": {
    "tags": []
   },
   "source": [
    "### Example 1: Top 10 Songs on Spotify\n",
    "\n",
    "The streaming service Spotify has a lot of data we can work with. For the next few questions, we will work with Spotify data from 2023. You can download an up-to-date copy of this data [here](https://spotifycharts.com/regional)."
   ]
  },
  {
   "cell_type": "code",
   "execution_count": null,
   "metadata": {
    "tags": []
   },
   "outputs": [],
   "source": [
    "top_10_simple = Table.read_table('data/regional-global-daily-top10-2023-11-05.csv').select(\"track_name\", \"streams\")\n",
    "top_10_simple"
   ]
  },
  {
   "cell_type": "code",
   "execution_count": null,
   "metadata": {
    "tags": []
   },
   "outputs": [],
   "source": [
    "... # Create a bar chart of streams for each of the songs in `top_10_simple`"
   ]
  },
  {
   "cell_type": "markdown",
   "metadata": {},
   "source": [
    "In the previous example, we gave you a simplified table with only two columns. What happens if we have more than two columns in a table?"
   ]
  },
  {
   "cell_type": "code",
   "execution_count": null,
   "metadata": {
    "tags": []
   },
   "outputs": [],
   "source": [
    "top_10 = Table.read_table('data/regional-global-daily-top10-2023-11-05.csv')\n",
    "top_10"
   ]
  },
  {
   "cell_type": "markdown",
   "metadata": {},
   "source": [
    "If we try to use the same `.barh()` format from above, our cell will cause an error."
   ]
  },
  {
   "cell_type": "code",
   "execution_count": null,
   "metadata": {
    "tags": []
   },
   "outputs": [],
   "source": [
    "top_10.barh('track_name') # This code causes an error"
   ]
  },
  {
   "cell_type": "markdown",
   "metadata": {},
   "source": [
    "Instead, we need to specify a second argument, which tells Python which column to use as the **numerical variable** on the y axis."
   ]
  },
  {
   "cell_type": "code",
   "execution_count": null,
   "metadata": {
    "tags": []
   },
   "outputs": [],
   "source": [
    "... # Create a bar chart of streams for each of the songs in `top_10`"
   ]
  },
  {
   "cell_type": "markdown",
   "metadata": {},
   "source": [
    "## `sort`"
   ]
  },
  {
   "cell_type": "markdown",
   "metadata": {},
   "source": [
    "Sometimes, our bar charts are still hard to understand intuitively because they are in an order that doesn't make sense (or doesn't provide us with much information):"
   ]
  },
  {
   "cell_type": "code",
   "execution_count": null,
   "metadata": {
    "tags": []
   },
   "outputs": [],
   "source": [
    "top_10.barh('track_name', 'days_on_chart')"
   ]
  },
  {
   "cell_type": "markdown",
   "metadata": {},
   "source": [
    "When there is some inherent order to the categories (e.g. the top songs sorted by number of streams or days on the Top 200), we can sort the rows first before calling `.barh()` to ensure that the bars in the bar chart are sorted. "
   ]
  },
  {
   "cell_type": "markdown",
   "metadata": {},
   "source": [
    "To sort rows in a table, we will use `tbl.sort(column)`. This function takes the argument `column`, which is the name of the column in the table to sort by, and an optional argument `descending` which can either be `True` or `False`, depending on whether we want to sort the table in ascending or descending order."
   ]
  },
  {
   "cell_type": "code",
   "execution_count": null,
   "metadata": {
    "tags": []
   },
   "outputs": [],
   "source": [
    "top_10.sort('days_on_chart', descending=True).barh('track_name', 'days_on_chart')"
   ]
  },
  {
   "cell_type": "markdown",
   "metadata": {},
   "source": [
    "The code above is the same as the code below! Remember that you can break larger problems up into smaller chunks this way."
   ]
  },
  {
   "cell_type": "code",
   "execution_count": null,
   "metadata": {
    "scrolled": true,
    "tags": []
   },
   "outputs": [],
   "source": [
    "top_10_sorted = top_10.sort('days_on_chart', descending=True)\n",
    "top_10_sorted.barh('track_name', 'days_on_chart')"
   ]
  },
  {
   "cell_type": "markdown",
   "metadata": {},
   "source": [
    "## `take`"
   ]
  },
  {
   "cell_type": "markdown",
   "metadata": {},
   "source": [
    "Now, we are going to load in the full table of the Spotify Top 200."
   ]
  },
  {
   "cell_type": "code",
   "execution_count": null,
   "metadata": {
    "scrolled": true,
    "tags": []
   },
   "outputs": [],
   "source": [
    "streams = Table.read_table('data/regional-global-daily-2023-11-02.csv')\n",
    "streams"
   ]
  },
  {
   "cell_type": "markdown",
   "metadata": {},
   "source": [
    "If we try to visualize all 200 songs in one chart, that chart will end up being really long and unwieldy. "
   ]
  },
  {
   "cell_type": "code",
   "execution_count": null,
   "metadata": {
    "tags": []
   },
   "outputs": [],
   "source": [
    "streams.barh('track_name', 'streams')"
   ]
  },
  {
   "cell_type": "markdown",
   "metadata": {},
   "source": [
    "So instead, we will manually _take_ the first 10 rows of the table in order to make our visualization. We can accomplish this using the `tbl.take(index)` function, which will take certain rows from the original table based on their index. For right now, we will be using `.take` in this format: `tbl.take(np.arange(10))`, where the number indicates how many rows to take, starting from the top of the table."
   ]
  },
  {
   "cell_type": "code",
   "execution_count": null,
   "metadata": {
    "scrolled": true,
    "tags": []
   },
   "outputs": [],
   "source": [
    "top_10 = streams.take(np.arange(10))\n",
    "top_10"
   ]
  },
  {
   "cell_type": "markdown",
   "metadata": {},
   "source": [
    "Now, when we generate our bar chart, we are able to visualize all ten songs very easily."
   ]
  },
  {
   "cell_type": "code",
   "execution_count": null,
   "metadata": {
    "tags": []
   },
   "outputs": [],
   "source": [
    "...  # Generate a bar chart of streams by song"
   ]
  },
  {
   "cell_type": "markdown",
   "metadata": {},
   "source": [
    "## Quick Check 1"
   ]
  },
  {
   "cell_type": "markdown",
   "metadata": {},
   "source": [
    "Given `streams_top_15`, a table of the top 15 most streamed songs, generate a bar chart showing how many streams each artist has."
   ]
  },
  {
   "cell_type": "code",
   "execution_count": null,
   "metadata": {
    "tags": []
   },
   "outputs": [],
   "source": [
    "streams_top_15 = streams.sort('streams', descending=True).take(np.arange(15)) \\\n",
    "                        .select('artist_names', 'track_name', 'streams')\n",
    "streams_top_15"
   ]
  },
  {
   "cell_type": "code",
   "execution_count": null,
   "metadata": {},
   "outputs": [],
   "source": [
    "streams_top_15.barh(...) # Create a bar chart showing the artists with the number of streams they have"
   ]
  },
  {
   "cell_type": "markdown",
   "metadata": {},
   "source": [
    "Notice how the artist Taylor Swift has multiple songs in the top 15, but his total streams are not counted together? We will learn how to consolidate all of the songs by a single artist soon..."
   ]
  },
  {
   "cell_type": "markdown",
   "metadata": {},
   "source": [
    "## Grouping Bars"
   ]
  },
  {
   "cell_type": "markdown",
   "metadata": {},
   "source": [
    "When two numerical variables have the same scale or magnitude, it is sometimes useful to visualize these variables together. For example, we have a column in `top_10` called `rank`, which is the current rank of a song. We also have a column `peak_rank`, which is the highest rank on the charts that the song achieved at any point."
   ]
  },
  {
   "cell_type": "code",
   "execution_count": null,
   "metadata": {
    "tags": []
   },
   "outputs": [],
   "source": [
    "top_10.select('rank', 'track_name', 'peak_rank')"
   ]
  },
  {
   "cell_type": "code",
   "execution_count": null,
   "metadata": {
    "tags": []
   },
   "outputs": [],
   "source": [
    "top_10.barh('track_name', 'rank')"
   ]
  },
  {
   "cell_type": "code",
   "execution_count": null,
   "metadata": {
    "tags": []
   },
   "outputs": [],
   "source": [
    "top_10.barh('track_name', 'peak_rank')"
   ]
  },
  {
   "cell_type": "markdown",
   "metadata": {},
   "source": [
    "Since both of these variables have the same scale, we can easily visualize them togther in one bar chart. To do this, we need to make sure our table only has the three columns `track_name`, `rank` and `peak_rank`. Then we can call `.barh()` to make an overlaid/groupped bar chart."
   ]
  },
  {
   "cell_type": "code",
   "execution_count": null,
   "metadata": {
    "scrolled": true,
    "tags": []
   },
   "outputs": [],
   "source": [
    "... # Create a grouped bar chart showing `rank` and `peak_rank` for each song"
   ]
  },
  {
   "cell_type": "markdown",
   "metadata": {},
   "source": [
    "If we prefer to visualize these variables separately, we can eliminate the overlay by setting the optional argument `overlay` to `False`."
   ]
  },
  {
   "cell_type": "code",
   "execution_count": null,
   "metadata": {
    "tags": []
   },
   "outputs": [],
   "source": [
    "... # Create two separate bar charts showing `rank` and `peak_rank` for each song\n",
    "# (Hint: set `overlay=False`)"
   ]
  },
  {
   "cell_type": "code",
   "execution_count": null,
   "metadata": {},
   "outputs": [],
   "source": []
  }
 ],
 "metadata": {
  "kernelspec": {
   "display_name": "Python [conda env:un5550] *",
   "language": "python",
   "name": "conda-env-un5550-py"
  },
  "language_info": {
   "codemirror_mode": {
    "name": "ipython",
    "version": 3
   },
   "file_extension": ".py",
   "mimetype": "text/x-python",
   "name": "python",
   "nbconvert_exporter": "python",
   "pygments_lexer": "ipython3",
   "version": "3.10.12"
  }
 },
 "nbformat": 4,
 "nbformat_minor": 4
}
