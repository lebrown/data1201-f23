{
 "cells": [
  {
   "cell_type": "code",
   "execution_count": null,
   "id": "593da303",
   "metadata": {
    "deletable": false,
    "editable": false
   },
   "outputs": [],
   "source": [
    "# Initialize Otter\n",
    "import otter\n",
    "grader = otter.Notebook(\"lab11.worksheet.ipynb\")"
   ]
  },
  {
   "cell_type": "markdown",
   "id": "d0b3a57e-10c1-443a-8d57-92f33af68caa",
   "metadata": {},
   "source": [
    "# Lab 11 - Worksheet \n",
    "\n",
    "Complete and turn in by Nov 2, 7pm. "
   ]
  },
  {
   "cell_type": "code",
   "execution_count": null,
   "id": "75f0fb15-5eab-45f9-a6fb-4720385a2b65",
   "metadata": {
    "tags": []
   },
   "outputs": [],
   "source": [
    "from datascience import *\n",
    "import numpy as np\n",
    "import matplotlib.pyplot as plt\n",
    "%matplotlib inline\n",
    "plt.style.use(\"ggplot\")\n"
   ]
  },
  {
   "cell_type": "markdown",
   "id": "a1628cd1-46a1-4301-a345-7927a6c643bb",
   "metadata": {},
   "source": [
    "# Part 1: Tables\n",
    "\n",
    "## The Data\n",
    "\n",
    "<img src = 'images/sfo.jpg' width = 600>\n",
    "\n",
    "In this section, we'll look at airline data from San Francisco International Airport (SFO). The dataset was downloaded directly from [flysfo.com](https://data.sfgov.org/Transportation/Air-Traffic-Passenger-Statistics/rkru-6vcg), SFO's website. The dataset contains information about major airlines, their associated flight statistics, and other information related to their flights out of SFO.\n",
    "\n",
    "\n",
    "<hr style=\"border: 1px solid #fdb515;\" />\n",
    "\n",
    "\n",
    "# Question 1 - Airlines\n"
   ]
  },
  {
   "cell_type": "markdown",
   "id": "a289b948-9d49-4796-9108-db3fe922a0fc",
   "metadata": {
    "deletable": false,
    "editable": false
   },
   "source": [
    "---\n",
    "## Question 1a\n",
    "\n",
    "Having gotten word of your newfound data science skills, the City of San Francisco tasks you with conducting data analysis on airline traffic out of San Francisco International Airport. To do so, they've given you a file containing relevant flight data. \n",
    "\n",
    "In the following cell, load the data contained in the `\"data/sfo.csv\"` file into the `sfo` table. You'll want to use one of the table methods reviewed in the last two weeks. \n",
    "\n",
    "[Python References](https://mtu.instructure.com/courses/1471027/pages/python-resources?module_item_id=22413830)"
   ]
  },
  {
   "cell_type": "code",
   "execution_count": null,
   "id": "e67a6f2a-af01-4e0f-a2cd-d793b1dd3f58",
   "metadata": {
    "tags": []
   },
   "outputs": [],
   "source": [
    "# Read in data into a Table \n",
    "\n",
    "sfo ... \n",
    "\n",
    "sfo.show(10)"
   ]
  },
  {
   "cell_type": "code",
   "execution_count": null,
   "id": "8a183791",
   "metadata": {
    "deletable": false,
    "editable": false
   },
   "outputs": [],
   "source": [
    "grader.check(\"q1a\")"
   ]
  },
  {
   "cell_type": "markdown",
   "id": "ec2fcede-d5d3-424c-913c-ccc9e15e396d",
   "metadata": {
    "deletable": false,
    "editable": false
   },
   "source": [
    "---\n",
    "## Question 1b\n",
    "\n",
    "<img src=\"images/jetblue.png\" width=300>\n",
    "\n",
    "Now that you've loaded your data into the `sfo` table, it's time to conduct our analysis. The City of San Francisco wants you to first focus on **JetBlue Airways**.\n",
    "\n",
    "Assign `num_passengers` to the **total number of passengers** on flights corresponding to **JetBlue Airways** in the `sfo` table. \n",
    "\n",
    "**Approach:** A recommended approach for solving this problem: \n",
    "\n",
    "1. create a new table, `jetblue`, containing *only* rows from the `sfo` table corresponding to `\"JetBlue Airways\"` as the `\"Operating Airline\"`.\n",
    "\n",
    "2. access data in the `\"Passenger Count\"` column using the `.column` method, then calculate the **total number of passengers** using the `sum` method.  \n",
    "\n"
   ]
  },
  {
   "cell_type": "code",
   "execution_count": null,
   "id": "40d8b034-db52-43ec-8be2-7295d987cad2",
   "metadata": {
    "tags": []
   },
   "outputs": [],
   "source": [
    "jetblue = ...   \n",
    "num_passengers = ...\n",
    "num_passengers"
   ]
  },
  {
   "cell_type": "code",
   "execution_count": null,
   "id": "838ce4a5",
   "metadata": {
    "deletable": false,
    "editable": false
   },
   "outputs": [],
   "source": [
    "grader.check(\"q1b\")"
   ]
  },
  {
   "cell_type": "markdown",
   "id": "3f839059-db6e-4953-aa3f-1ecf3dbe35c8",
   "metadata": {
    "deletable": false,
    "editable": false
   },
   "source": [
    "---\n",
    "## Question 1c\n",
    "\n",
    "<img src=\"images/united.png\" width=300>\n",
    "\n",
    "Now, the City of San Francisco wants you to focus on **United Airlines**; they would like to know how many flights conducted by United Airrlines arrive in Europe. \n",
    "\n",
    "Assign `prop_europe` to the **proportion of flights** that **United Airlines** takes to Europe, as based on the information presented within the `sfo` table. \n",
    "\n",
    "**Approach**  A recommended approach for solving this problem: \n",
    "\n",
    "1. You'll first want to create a intermediary table, `united`, which contains data corresponding to `\"United Airlines\"` as the `\"Operating Airline\"`\n",
    "\n",
    "2. Create a table from `united` with only those rows *where* the `\"GEO Region\"` is `\"Europe\"` and count the number of rows in this table.  \n",
    "Divide this value by the number of rows for all **United Airlines** flights to get the proportion of flights.  "
   ]
  },
  {
   "cell_type": "code",
   "execution_count": null,
   "id": "e1be4a3d-a547-4c32-a431-4c7ebb6f0aab",
   "metadata": {
    "tags": []
   },
   "outputs": [],
   "source": [
    "united = ...   \n",
    "prop_europe = ...\n",
    "prop_europe"
   ]
  },
  {
   "cell_type": "code",
   "execution_count": null,
   "id": "8e17f092",
   "metadata": {
    "deletable": false,
    "editable": false
   },
   "outputs": [],
   "source": [
    "grader.check(\"q1c\")"
   ]
  },
  {
   "cell_type": "markdown",
   "id": "09cd15ca-8ceb-4ae4-a765-a1e31e1eea42",
   "metadata": {
    "deletable": false,
    "editable": false
   },
   "source": [
    "---\n",
    "## Question 1d\n",
    "\n",
    "Let's continue our work with **United Airlines**, specifically looking at how **passenger counts** vary between successive years. In this question, we'll investigate two months: **July 2019** and **July 2020**.\n",
    "\n",
    "Assign `july_2019_mean` to the **average number of passengers** on United Airlines flights in July 2019. Similarly, assign `july_2020_mean` to the **average number of passengers** on United Airlines flights in July 2020.\n",
    "\n",
    "*Hint*: You can re-use the `united` table from the previous question.\n",
    "\n",
    "**Approach**: A recommended approach for solving the problem is to create a new table *where* the \"Activity Period\" matches the time period of interest, select the column of interest that you want to do some math on, e.g., \"Passenger Count\", and take the average. \n"
   ]
  },
  {
   "cell_type": "code",
   "execution_count": null,
   "id": "c73d5a6d-90dc-40f5-b431-f56233713ad4",
   "metadata": {
    "tags": []
   },
   "outputs": [],
   "source": [
    "# Use the united Table from the prior question \n",
    "\n",
    "july_2019_mean = ...\n",
    "july_2020_mean = ...\n",
    "\n",
    "\n",
    "# Don't change any code below this line\n",
    "print(f\"Average Passenger Count (July 2019): {round(july_2019_mean, 2)}\")\n",
    "print(f\"Average Passenger Count (July 2020): {round(july_2020_mean, 2)}\")"
   ]
  },
  {
   "cell_type": "code",
   "execution_count": null,
   "id": "a9661f00",
   "metadata": {
    "deletable": false,
    "editable": false
   },
   "outputs": [],
   "source": [
    "grader.check(\"q1d\")"
   ]
  },
  {
   "cell_type": "markdown",
   "id": "9daad5e8-78dd-4ab8-9897-c3e0dcd8bbe9",
   "metadata": {},
   "source": [
    "# Part 2 - Visualization \n",
    "\n",
    "*Acknowledgements*\n",
    "\n",
    "Many of the pictures and descriptions in this section of the homework are taken from [Dr. Allison Horst](https://twitter.com/allison_horst) and [Dr. Kristen Gorman](https://www.uaf.edu/cfos/people/faculty/detail/kristen-gorman.php). The data was collected as a part of the [Long Term Ecological Research Network](https://lternet.edu/). If you're curious about the origins of the data, see [here](https://allisonhorst.github.io/palmerpenguins/) for more details.\n",
    "\n",
    "\n",
    "## The Data\n",
    "\n",
    "In this part of your assignment, we will explore a dataset containing size measurements for three penguin species observed on three islands in the Palmer Archipelago, Antarctica. The data was collected by Dr. Kristen Gorman, a marine biologist from 2007 to 2009.\n",
    "\n",
    "Here's a photo of Dr. Gorman in the wild collecting the data:\n",
    "\n",
    "<img src='images/gorman1.png' width=300>\n",
    "\n",
    "Run the cell below to load in our data."
   ]
  },
  {
   "cell_type": "code",
   "execution_count": null,
   "id": "45635e9c-cafb-4107-9bf5-c641b5a61fa0",
   "metadata": {
    "tags": []
   },
   "outputs": [],
   "source": [
    "# Run this cell!\n",
    "penguins = Table.read_table(\"data/penguins.csv\")\n",
    "penguins"
   ]
  },
  {
   "cell_type": "markdown",
   "id": "1f73b64e-01d2-4826-b13e-ed8d30e05a77",
   "metadata": {},
   "source": [
    "### Understanding the Data\n",
    "\n",
    "Let's make sure we understand what each of the columns in our data represents before proceeding.\n",
    "\n",
    "**`\"species\"`** There are three species of penguin in our dataset: Adelie, Chinstrap, and Gentoo.\n",
    "\n",
    "<img src='images/lter_penguins.png' width=300>\n",
    "\n",
    "**`\"island\"`** The penguins in our dataset come from three islands: Biscoe, Dream, and Torgersen. (The smaller image of Anvers Island may initially be confusing; the dark region is land and the light region is water.)\n",
    "\n",
    "<img src='images/island.png' width=300>\n",
    "\n",
    "Image taken from <a href=\"https://journals.plos.org/plosone/article/figure?id=10.1371/journal.pone.0090081.g001\">here</a>\n",
    "\n",
    "\n",
    "**`\"bill_length_mm\"`** and **`\"bill_depth_mm\"`**: See the illustration below.\n",
    "\n",
    "<img src='images/culmen_depth.png' width=300>\n",
    "\n",
    "**`\"flipper_length_mm\"`**: [Flippers](https://www.thespruce.com/flipper-definition-penguin-wings-385251) are the equivalent of wings on penguins. \n",
    "\n",
    "**`\"body_mass_g\"`** The body mass of the penguin, in grams\n",
    "\n",
    "**`\"sex\"`**: The sex of the penguin"
   ]
  },
  {
   "cell_type": "markdown",
   "id": "930c7325-2c3b-43ad-a9fa-68a73ebebe7d",
   "metadata": {},
   "source": [
    "# Question 2 - Bar Charts"
   ]
  },
  {
   "cell_type": "markdown",
   "id": "fd42dd0b-61ac-42e1-b230-a9fede0a4999",
   "metadata": {
    "deletable": false,
    "editable": false
   },
   "source": [
    "<!-- BEGIN QUESTION -->\n",
    "\n",
    "---\n",
    "## Question 2a\n",
    "Let's start by visualizing the distribution of the islands from which the penguins in our dataset come. Your friend Sunya says that using a **histogram** is the best way to do this. However, Josh disagrees and says that using a **horizontal bar chart** is a better move. Who is right? Explain your answer.\n",
    "\n",
    "*Hint*: What kind of variable is contained within the `\"island\"` column?"
   ]
  },
  {
   "cell_type": "markdown",
   "id": "01d7e13b-36e4-48b1-b31d-5dd6f79bf45f",
   "metadata": {},
   "source": [
    "**State which plot is better and why?**\n",
    "\n",
    "..."
   ]
  },
  {
   "cell_type": "markdown",
   "id": "161b25ca-f889-48aa-bd60-a833e479a417",
   "metadata": {
    "deletable": false,
    "editable": false
   },
   "source": [
    "<!-- END QUESTION -->\n",
    "\n",
    "<!-- BEGIN QUESTION -->\n",
    "\n",
    "---\n",
    "## Question 2b\n",
    "\n",
    "Based on your answer for the previous question, create an appropriate visualization to show the distribution of the islands from which the penguins come.\n",
    "\n",
    "Specifically, write a line of code in the following cell that produces a visualization with three bars, one for each island. The length of each bar should correspond to the number of penguins from each island.\n",
    "\n",
    "We've provided the `islands` table for you to use."
   ]
  },
  {
   "cell_type": "code",
   "execution_count": null,
   "id": "c33a8441-f663-4ff3-b618-43b60cc2ab12",
   "metadata": {
    "deletable": false,
    "editable": false,
    "tags": []
   },
   "outputs": [],
   "source": [
    "islands = Table.read_table(\"data/islands.csv\")\n",
    "islands"
   ]
  },
  {
   "cell_type": "code",
   "execution_count": null,
   "id": "2108290b-5c49-49aa-b2f8-75e20b583943",
   "metadata": {
    "tags": []
   },
   "outputs": [],
   "source": [
    "\n",
    "...\n",
    "\n",
    "# Don't change any code below this line\n",
    "plt.xlabel(\"Number of Penguins\")\n",
    "plt.title(\"Number of Penguins on Each Island\");"
   ]
  },
  {
   "cell_type": "markdown",
   "id": "117b1eb9-6d3e-4956-963a-7a602b2ec557",
   "metadata": {
    "deletable": false,
    "editable": false
   },
   "source": [
    "<!-- END QUESTION -->\n",
    "\n",
    "# Question 3 - Histograms\n",
    "\n",
    "\n",
    "Great! Now that we've explored the distribution of a categorical variable in our dataset, it's time to study the distributions of some of the numerical variables with a histogram. "
   ]
  },
  {
   "cell_type": "markdown",
   "id": "0f9a609f-30a7-457a-acfa-cae34bea8487",
   "metadata": {
    "deletable": false,
    "editable": false
   },
   "source": [
    "---\n",
    "## Question 3a\n",
    "\n",
    "Before we produce any histograms using code, let's make sure we understand *how* to interpret the data plotted by a histogram. Run the following cell to create a histogram that shows the **distribution of penguin body mass (in grams)** for all the penguins in the `penguins` table."
   ]
  },
  {
   "cell_type": "code",
   "execution_count": null,
   "id": "7db062d7-e606-4cb7-aa02-a6fca2d97091",
   "metadata": {
    "deletable": false,
    "editable": false,
    "tags": []
   },
   "outputs": [],
   "source": [
    "penguins.hist(\"body_mass_g\", bins=np.arange(2000,7001, 500), density=False)"
   ]
  },
  {
   "cell_type": "markdown",
   "id": "63a13978-9279-4eae-98b5-f2cbb847e35d",
   "metadata": {
    "deletable": false,
    "editable": false
   },
   "source": [
    "Based on the information presented in the above histogram, assign `num_penguins` to the **number of penguins** that have a body mass **between 3000 grams (*inclusive*) and 3500 grams (*exclusive*)**.  *Read this number from the histogram*\n",
    "\n",
    "*Note*: Remember, in a histogram, each bin is inclusive of the left endpoint and exclusive of the right endpoint. What this means is that, for example, the bin between 2500 and 3000 grams above corresponds to body masses that are greater than or equal to 2500 grams and less than 3000 grams."
   ]
  },
  {
   "cell_type": "code",
   "execution_count": null,
   "id": "910badae-bbd7-4e30-900d-4559334c48b0",
   "metadata": {
    "tags": []
   },
   "outputs": [],
   "source": [
    "num_penguins = ...\n",
    "num_penguins"
   ]
  },
  {
   "cell_type": "code",
   "execution_count": null,
   "id": "d341a342",
   "metadata": {
    "deletable": false,
    "editable": false
   },
   "outputs": [],
   "source": [
    "grader.check(\"q3a\")"
   ]
  },
  {
   "cell_type": "markdown",
   "id": "911a88bf-7bca-4809-98df-cf1132c096af",
   "metadata": {
    "deletable": false,
    "editable": false
   },
   "source": [
    "<!-- BEGIN QUESTION -->\n",
    "\n",
    "---\n",
    "## Question 3b\n",
    "\n",
    "Now it's time to create a histogram! For convenience, we've provided the `penguins` table in the cell below. There are four columns containing numerical variables: `\"bill_length_mm\"`, `\"bill_depth_mm\"`, `\"flitter_length_mm\"`, and `\"body_mass_g\"`."
   ]
  },
  {
   "cell_type": "code",
   "execution_count": null,
   "id": "a08107fe-6be1-4a4b-b960-dc2f167ce0bf",
   "metadata": {
    "deletable": false,
    "editable": false,
    "tags": []
   },
   "outputs": [],
   "source": [
    "penguins.show(5)"
   ]
  },
  {
   "cell_type": "markdown",
   "id": "3fdd0285-4a55-4328-a305-67b071570ef2",
   "metadata": {
    "deletable": false,
    "editable": false
   },
   "source": [
    "In the cell below, write code that produces a histogram that visualizes the distribution of our penguins' flipper lengths. We've provided the bins for you to use as the `my_bins` variable. More specifically, you'll want to re-create the following histogram exactly:\n",
    "\n",
    "<img src=\"images/examples/flipper_lengths.png\">"
   ]
  },
  {
   "cell_type": "code",
   "execution_count": null,
   "id": "90bc1b14-017d-43b0-80eb-259622839c18",
   "metadata": {
    "tags": []
   },
   "outputs": [],
   "source": [
    "\n",
    "my_bins = np.arange(170,240, 5)\n",
    "...\n",
    "\n",
    "# Don't change any code below this line\n",
    "plt.title(\"Distribution of Flipper Lengths (mm)\");"
   ]
  },
  {
   "cell_type": "markdown",
   "id": "569a7ad7",
   "metadata": {
    "deletable": false,
    "editable": false
   },
   "source": [
    "<!-- END QUESTION -->\n",
    "\n"
   ]
  },
  {
   "cell_type": "markdown",
   "id": "bad44349",
   "metadata": {
    "deletable": false,
    "editable": false
   },
   "source": [
    "## Submission\n",
    "\n",
    "Make sure you have run all cells in your notebook in order before running the cell below, so that all images/graphs appear in the output. The cell below will generate a zip file for you to submit. **Please save before exporting!**"
   ]
  },
  {
   "cell_type": "code",
   "execution_count": null,
   "id": "c6006172",
   "metadata": {
    "deletable": false,
    "editable": false
   },
   "outputs": [],
   "source": [
    "# Save your notebook first, then run this cell to export your submission.\n",
    "grader.export(pdf=False, run_tests=True)"
   ]
  },
  {
   "cell_type": "markdown",
   "id": "65247316",
   "metadata": {},
   "source": [
    " "
   ]
  }
 ],
 "metadata": {
  "kernelspec": {
   "display_name": "Python [conda env:un5550] *",
   "language": "python",
   "name": "conda-env-un5550-py"
  },
  "language_info": {
   "codemirror_mode": {
    "name": "ipython",
    "version": 3
   },
   "file_extension": ".py",
   "mimetype": "text/x-python",
   "name": "python",
   "nbconvert_exporter": "python",
   "pygments_lexer": "ipython3",
   "version": "3.10.12"
  },
  "otter": {
   "OK_FORMAT": true,
   "tests": {
    "q1a": {
     "name": "q1a",
     "points": 3,
     "suites": [
      {
       "cases": [
        {
         "code": ">>> isinstance(sfo, Table)\nTrue",
         "hidden": false,
         "locked": false
        },
        {
         "code": ">>> sfo.num_rows == 22869\nTrue",
         "hidden": false,
         "locked": false
        },
        {
         "code": ">>> sfo.num_columns == 7\nTrue",
         "hidden": false,
         "locked": false
        }
       ],
       "scored": true,
       "setup": "",
       "teardown": "",
       "type": "doctest"
      }
     ]
    },
    "q1b": {
     "name": "q1b",
     "points": [
      1,
      2
     ],
     "suites": [
      {
       "cases": [
        {
         "code": ">>> type(num_passengers) in (int, float, np.int64, np.float64)\nTrue",
         "hidden": false,
         "locked": false
        },
        {
         "code": ">>> num_passengers == 14077961\nTrue",
         "hidden": false,
         "locked": false
        }
       ],
       "scored": true,
       "setup": "",
       "teardown": "",
       "type": "doctest"
      }
     ]
    },
    "q1c": {
     "name": "q1c",
     "points": [
      1,
      1,
      2
     ],
     "suites": [
      {
       "cases": [
        {
         "code": ">>> type(prop_europe) in (int, float, np.int64, np.float64)\nTrue",
         "hidden": false,
         "locked": false
        },
        {
         "code": ">>> 0 <= prop_europe <= 1\nTrue",
         "hidden": false,
         "locked": false
        },
        {
         "code": ">>> np.isclose(prop_europe, 0.08931552587646077)\nTrue",
         "hidden": false,
         "locked": false
        }
       ],
       "scored": true,
       "setup": "",
       "teardown": "",
       "type": "doctest"
      }
     ]
    },
    "q1d": {
     "name": "q1d",
     "points": 4,
     "suites": [
      {
       "cases": [
        {
         "code": ">>> type(july_2019_mean) in (int, float, np.int64, np.float64)\nTrue",
         "hidden": false,
         "locked": false
        },
        {
         "code": ">>> type(july_2020_mean) in (int, float, np.int64, np.float64)\nTrue",
         "hidden": false,
         "locked": false
        },
        {
         "code": ">>> np.isclose(july_2019_mean, 75222.43333333333)\nTrue",
         "hidden": false,
         "locked": false
        },
        {
         "code": ">>> np.isclose(july_2020_mean, 11177.619047619048)\nTrue",
         "hidden": false,
         "locked": false
        }
       ],
       "scored": true,
       "setup": "",
       "teardown": "",
       "type": "doctest"
      }
     ]
    },
    "q3a": {
     "name": "q3a",
     "points": 1,
     "suites": [
      {
       "cases": [
        {
         "code": ">>> any(isinstance(num_penguins, x) for x in (int, float))\nTrue",
         "hidden": false,
         "locked": false
        },
        {
         "code": ">>> 58 <= num_penguins <= 62\nTrue",
         "hidden": false,
         "locked": false
        }
       ],
       "scored": true,
       "setup": "",
       "teardown": "",
       "type": "doctest"
      }
     ]
    }
   }
  }
 },
 "nbformat": 4,
 "nbformat_minor": 5
}
